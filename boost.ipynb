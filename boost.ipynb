{
 "cells": [
  {
   "attachments": {},
   "cell_type": "markdown",
   "metadata": {},
   "source": [
    "https://dacon.io/competitions/official/236056/overview/description"
   ]
  },
  {
   "cell_type": "code",
   "execution_count": 1,
   "metadata": {},
   "outputs": [],
   "source": [
    "# ID : 음악 샘플 고유 ID\n",
    "# 음악 샘플의 특징 정보\n",
    "# danceability\n",
    "# energy\n",
    "# key\n",
    "# loudness\n",
    "# speechiness\n",
    "# acousticness \n",
    "# instrumentalness\n",
    "# liveness\n",
    "# valence\n",
    "# tempo\n",
    "# duration : 음악 재생 시간(길이) (초)\n",
    "# genre : 음악 장르 (총 15개 종류)"
   ]
  },
  {
   "cell_type": "code",
   "execution_count": 2,
   "metadata": {},
   "outputs": [],
   "source": [
    "import warnings\n",
    "\n",
    "warnings.filterwarnings( 'ignore' )"
   ]
  },
  {
   "cell_type": "code",
   "execution_count": 3,
   "metadata": {},
   "outputs": [],
   "source": [
    "import numpy as np\n",
    "import pandas as pd\n",
    "import matplotlib.pyplot as plt\n",
    "import seaborn as sns\n",
    "\n",
    "plt.rcParams['figure.figsize'] = [4, 3]\n",
    "%matplotlib inline"
   ]
  },
  {
   "cell_type": "code",
   "execution_count": 4,
   "metadata": {},
   "outputs": [
    {
     "data": {
      "text/html": [
       "<div>\n",
       "<style scoped>\n",
       "    .dataframe tbody tr th:only-of-type {\n",
       "        vertical-align: middle;\n",
       "    }\n",
       "\n",
       "    .dataframe tbody tr th {\n",
       "        vertical-align: top;\n",
       "    }\n",
       "\n",
       "    .dataframe thead th {\n",
       "        text-align: right;\n",
       "    }\n",
       "</style>\n",
       "<table border=\"1\" class=\"dataframe\">\n",
       "  <thead>\n",
       "    <tr style=\"text-align: right;\">\n",
       "      <th></th>\n",
       "      <th>ID</th>\n",
       "      <th>danceability</th>\n",
       "      <th>energy</th>\n",
       "      <th>key</th>\n",
       "      <th>loudness</th>\n",
       "      <th>speechiness</th>\n",
       "      <th>acousticness</th>\n",
       "      <th>instrumentalness</th>\n",
       "      <th>liveness</th>\n",
       "      <th>valence</th>\n",
       "      <th>tempo</th>\n",
       "      <th>duration</th>\n",
       "      <th>genre</th>\n",
       "    </tr>\n",
       "  </thead>\n",
       "  <tbody>\n",
       "    <tr>\n",
       "      <th>0</th>\n",
       "      <td>TRAIN_00000</td>\n",
       "      <td>0.3341</td>\n",
       "      <td>0.9231</td>\n",
       "      <td>10</td>\n",
       "      <td>0.8540</td>\n",
       "      <td>0.3797</td>\n",
       "      <td>0.0080</td>\n",
       "      <td>0.0002</td>\n",
       "      <td>0.7697</td>\n",
       "      <td>0.7902</td>\n",
       "      <td>0.5391</td>\n",
       "      <td>175</td>\n",
       "      <td>trap</td>\n",
       "    </tr>\n",
       "    <tr>\n",
       "      <th>1</th>\n",
       "      <td>TRAIN_00001</td>\n",
       "      <td>0.6344</td>\n",
       "      <td>0.5955</td>\n",
       "      <td>10</td>\n",
       "      <td>0.2826</td>\n",
       "      <td>0.1378</td>\n",
       "      <td>0.0000</td>\n",
       "      <td>0.7137</td>\n",
       "      <td>0.1597</td>\n",
       "      <td>0.4162</td>\n",
       "      <td>0.3043</td>\n",
       "      <td>513</td>\n",
       "      <td>techno</td>\n",
       "    </tr>\n",
       "    <tr>\n",
       "      <th>2</th>\n",
       "      <td>TRAIN_00002</td>\n",
       "      <td>0.3983</td>\n",
       "      <td>0.1107</td>\n",
       "      <td>8</td>\n",
       "      <td>0.2459</td>\n",
       "      <td>0.0247</td>\n",
       "      <td>0.7740</td>\n",
       "      <td>0.0000</td>\n",
       "      <td>0.5105</td>\n",
       "      <td>0.4291</td>\n",
       "      <td>0.2324</td>\n",
       "      <td>151</td>\n",
       "      <td>Trap Metal</td>\n",
       "    </tr>\n",
       "    <tr>\n",
       "      <th>3</th>\n",
       "      <td>TRAIN_00003</td>\n",
       "      <td>0.3139</td>\n",
       "      <td>0.9702</td>\n",
       "      <td>2</td>\n",
       "      <td>0.9252</td>\n",
       "      <td>0.9590</td>\n",
       "      <td>0.0371</td>\n",
       "      <td>0.3015</td>\n",
       "      <td>0.2539</td>\n",
       "      <td>0.0577</td>\n",
       "      <td>0.5406</td>\n",
       "      <td>246</td>\n",
       "      <td>trap</td>\n",
       "    </tr>\n",
       "    <tr>\n",
       "      <th>4</th>\n",
       "      <td>TRAIN_00004</td>\n",
       "      <td>0.0735</td>\n",
       "      <td>0.9452</td>\n",
       "      <td>5</td>\n",
       "      <td>0.7702</td>\n",
       "      <td>0.1397</td>\n",
       "      <td>0.2583</td>\n",
       "      <td>0.0015</td>\n",
       "      <td>0.1774</td>\n",
       "      <td>0.1128</td>\n",
       "      <td>0.3176</td>\n",
       "      <td>229</td>\n",
       "      <td>Dark Trap</td>\n",
       "    </tr>\n",
       "    <tr>\n",
       "      <th>...</th>\n",
       "      <td>...</td>\n",
       "      <td>...</td>\n",
       "      <td>...</td>\n",
       "      <td>...</td>\n",
       "      <td>...</td>\n",
       "      <td>...</td>\n",
       "      <td>...</td>\n",
       "      <td>...</td>\n",
       "      <td>...</td>\n",
       "      <td>...</td>\n",
       "      <td>...</td>\n",
       "      <td>...</td>\n",
       "      <td>...</td>\n",
       "    </tr>\n",
       "    <tr>\n",
       "      <th>25378</th>\n",
       "      <td>TRAIN_25378</td>\n",
       "      <td>0.8814</td>\n",
       "      <td>0.3398</td>\n",
       "      <td>6</td>\n",
       "      <td>0.4602</td>\n",
       "      <td>0.3825</td>\n",
       "      <td>0.4505</td>\n",
       "      <td>0.0000</td>\n",
       "      <td>0.4222</td>\n",
       "      <td>0.8753</td>\n",
       "      <td>0.4081</td>\n",
       "      <td>88</td>\n",
       "      <td>Underground Rap</td>\n",
       "    </tr>\n",
       "    <tr>\n",
       "      <th>25379</th>\n",
       "      <td>TRAIN_25379</td>\n",
       "      <td>0.7505</td>\n",
       "      <td>0.5657</td>\n",
       "      <td>0</td>\n",
       "      <td>0.6682</td>\n",
       "      <td>0.1038</td>\n",
       "      <td>0.1281</td>\n",
       "      <td>0.0000</td>\n",
       "      <td>0.0596</td>\n",
       "      <td>0.9583</td>\n",
       "      <td>0.4273</td>\n",
       "      <td>123</td>\n",
       "      <td>Trap Metal</td>\n",
       "    </tr>\n",
       "    <tr>\n",
       "      <th>25380</th>\n",
       "      <td>TRAIN_25380</td>\n",
       "      <td>0.2520</td>\n",
       "      <td>0.7617</td>\n",
       "      <td>8</td>\n",
       "      <td>0.4928</td>\n",
       "      <td>0.0410</td>\n",
       "      <td>0.0003</td>\n",
       "      <td>0.8395</td>\n",
       "      <td>0.0843</td>\n",
       "      <td>0.1372</td>\n",
       "      <td>0.7828</td>\n",
       "      <td>353</td>\n",
       "      <td>dnb</td>\n",
       "    </tr>\n",
       "    <tr>\n",
       "      <th>25381</th>\n",
       "      <td>TRAIN_25381</td>\n",
       "      <td>0.6202</td>\n",
       "      <td>0.3455</td>\n",
       "      <td>0</td>\n",
       "      <td>0.6499</td>\n",
       "      <td>0.7960</td>\n",
       "      <td>0.4818</td>\n",
       "      <td>0.0000</td>\n",
       "      <td>0.2007</td>\n",
       "      <td>0.0194</td>\n",
       "      <td>0.9756</td>\n",
       "      <td>120</td>\n",
       "      <td>Dark Trap</td>\n",
       "    </tr>\n",
       "    <tr>\n",
       "      <th>25382</th>\n",
       "      <td>TRAIN_25382</td>\n",
       "      <td>0.8963</td>\n",
       "      <td>0.4435</td>\n",
       "      <td>9</td>\n",
       "      <td>0.6595</td>\n",
       "      <td>0.1336</td>\n",
       "      <td>0.4673</td>\n",
       "      <td>0.0000</td>\n",
       "      <td>0.2971</td>\n",
       "      <td>0.3320</td>\n",
       "      <td>0.4069</td>\n",
       "      <td>228</td>\n",
       "      <td>Rap</td>\n",
       "    </tr>\n",
       "  </tbody>\n",
       "</table>\n",
       "<p>25383 rows × 13 columns</p>\n",
       "</div>"
      ],
      "text/plain": [
       "                ID  danceability  energy  key  loudness  speechiness  \\\n",
       "0      TRAIN_00000        0.3341  0.9231   10    0.8540       0.3797   \n",
       "1      TRAIN_00001        0.6344  0.5955   10    0.2826       0.1378   \n",
       "2      TRAIN_00002        0.3983  0.1107    8    0.2459       0.0247   \n",
       "3      TRAIN_00003        0.3139  0.9702    2    0.9252       0.9590   \n",
       "4      TRAIN_00004        0.0735  0.9452    5    0.7702       0.1397   \n",
       "...            ...           ...     ...  ...       ...          ...   \n",
       "25378  TRAIN_25378        0.8814  0.3398    6    0.4602       0.3825   \n",
       "25379  TRAIN_25379        0.7505  0.5657    0    0.6682       0.1038   \n",
       "25380  TRAIN_25380        0.2520  0.7617    8    0.4928       0.0410   \n",
       "25381  TRAIN_25381        0.6202  0.3455    0    0.6499       0.7960   \n",
       "25382  TRAIN_25382        0.8963  0.4435    9    0.6595       0.1336   \n",
       "\n",
       "       acousticness  instrumentalness  liveness  valence   tempo  duration  \\\n",
       "0            0.0080            0.0002    0.7697   0.7902  0.5391       175   \n",
       "1            0.0000            0.7137    0.1597   0.4162  0.3043       513   \n",
       "2            0.7740            0.0000    0.5105   0.4291  0.2324       151   \n",
       "3            0.0371            0.3015    0.2539   0.0577  0.5406       246   \n",
       "4            0.2583            0.0015    0.1774   0.1128  0.3176       229   \n",
       "...             ...               ...       ...      ...     ...       ...   \n",
       "25378        0.4505            0.0000    0.4222   0.8753  0.4081        88   \n",
       "25379        0.1281            0.0000    0.0596   0.9583  0.4273       123   \n",
       "25380        0.0003            0.8395    0.0843   0.1372  0.7828       353   \n",
       "25381        0.4818            0.0000    0.2007   0.0194  0.9756       120   \n",
       "25382        0.4673            0.0000    0.2971   0.3320  0.4069       228   \n",
       "\n",
       "                 genre  \n",
       "0                 trap  \n",
       "1               techno  \n",
       "2           Trap Metal  \n",
       "3                 trap  \n",
       "4            Dark Trap  \n",
       "...                ...  \n",
       "25378  Underground Rap  \n",
       "25379       Trap Metal  \n",
       "25380              dnb  \n",
       "25381        Dark Trap  \n",
       "25382              Rap  \n",
       "\n",
       "[25383 rows x 13 columns]"
      ]
     },
     "execution_count": 4,
     "metadata": {},
     "output_type": "execute_result"
    }
   ],
   "source": [
    "train = pd.read_csv('train.csv')\n",
    "train"
   ]
  },
  {
   "cell_type": "code",
   "execution_count": 5,
   "metadata": {},
   "outputs": [
    {
     "name": "stdout",
     "output_type": "stream",
     "text": [
      "<class 'pandas.core.frame.DataFrame'>\n",
      "RangeIndex: 25383 entries, 0 to 25382\n",
      "Data columns (total 13 columns):\n",
      " #   Column            Non-Null Count  Dtype  \n",
      "---  ------            --------------  -----  \n",
      " 0   ID                25383 non-null  object \n",
      " 1   danceability      25383 non-null  float64\n",
      " 2   energy            25383 non-null  float64\n",
      " 3   key               25383 non-null  int64  \n",
      " 4   loudness          25383 non-null  float64\n",
      " 5   speechiness       25383 non-null  float64\n",
      " 6   acousticness      25383 non-null  float64\n",
      " 7   instrumentalness  25383 non-null  float64\n",
      " 8   liveness          25383 non-null  float64\n",
      " 9   valence           25383 non-null  float64\n",
      " 10  tempo             25383 non-null  float64\n",
      " 11  duration          25383 non-null  int64  \n",
      " 12  genre             25383 non-null  object \n",
      "dtypes: float64(9), int64(2), object(2)\n",
      "memory usage: 2.5+ MB\n"
     ]
    }
   ],
   "source": [
    "train.info()"
   ]
  },
  {
   "cell_type": "code",
   "execution_count": 6,
   "metadata": {},
   "outputs": [
    {
     "data": {
      "text/html": [
       "<div>\n",
       "<style scoped>\n",
       "    .dataframe tbody tr th:only-of-type {\n",
       "        vertical-align: middle;\n",
       "    }\n",
       "\n",
       "    .dataframe tbody tr th {\n",
       "        vertical-align: top;\n",
       "    }\n",
       "\n",
       "    .dataframe thead th {\n",
       "        text-align: right;\n",
       "    }\n",
       "</style>\n",
       "<table border=\"1\" class=\"dataframe\">\n",
       "  <thead>\n",
       "    <tr style=\"text-align: right;\">\n",
       "      <th></th>\n",
       "      <th>danceability</th>\n",
       "      <th>energy</th>\n",
       "      <th>key</th>\n",
       "      <th>loudness</th>\n",
       "      <th>speechiness</th>\n",
       "      <th>acousticness</th>\n",
       "      <th>instrumentalness</th>\n",
       "      <th>liveness</th>\n",
       "      <th>valence</th>\n",
       "      <th>tempo</th>\n",
       "      <th>duration</th>\n",
       "    </tr>\n",
       "  </thead>\n",
       "  <tbody>\n",
       "    <tr>\n",
       "      <th>count</th>\n",
       "      <td>25383.000000</td>\n",
       "      <td>25383.000000</td>\n",
       "      <td>25383.000000</td>\n",
       "      <td>25383.000000</td>\n",
       "      <td>25383.000000</td>\n",
       "      <td>25383.000000</td>\n",
       "      <td>25383.000000</td>\n",
       "      <td>25383.000000</td>\n",
       "      <td>25383.000000</td>\n",
       "      <td>25383.000000</td>\n",
       "      <td>25383.000000</td>\n",
       "    </tr>\n",
       "    <tr>\n",
       "      <th>mean</th>\n",
       "      <td>0.544519</td>\n",
       "      <td>0.642106</td>\n",
       "      <td>5.368239</td>\n",
       "      <td>0.523904</td>\n",
       "      <td>0.271701</td>\n",
       "      <td>0.178736</td>\n",
       "      <td>0.309931</td>\n",
       "      <td>0.324461</td>\n",
       "      <td>0.403999</td>\n",
       "      <td>0.503558</td>\n",
       "      <td>253.697514</td>\n",
       "    </tr>\n",
       "    <tr>\n",
       "      <th>std</th>\n",
       "      <td>0.242362</td>\n",
       "      <td>0.275050</td>\n",
       "      <td>3.660011</td>\n",
       "      <td>0.209811</td>\n",
       "      <td>0.276586</td>\n",
       "      <td>0.272155</td>\n",
       "      <td>0.399725</td>\n",
       "      <td>0.254626</td>\n",
       "      <td>0.286148</td>\n",
       "      <td>0.222104</td>\n",
       "      <td>103.020340</td>\n",
       "    </tr>\n",
       "    <tr>\n",
       "      <th>min</th>\n",
       "      <td>0.000000</td>\n",
       "      <td>0.000000</td>\n",
       "      <td>0.000000</td>\n",
       "      <td>0.000000</td>\n",
       "      <td>0.001100</td>\n",
       "      <td>0.000000</td>\n",
       "      <td>0.000000</td>\n",
       "      <td>0.000000</td>\n",
       "      <td>0.000000</td>\n",
       "      <td>0.007300</td>\n",
       "      <td>28.000000</td>\n",
       "    </tr>\n",
       "    <tr>\n",
       "      <th>25%</th>\n",
       "      <td>0.340500</td>\n",
       "      <td>0.410000</td>\n",
       "      <td>1.000000</td>\n",
       "      <td>0.372900</td>\n",
       "      <td>0.062950</td>\n",
       "      <td>0.003700</td>\n",
       "      <td>0.000000</td>\n",
       "      <td>0.138100</td>\n",
       "      <td>0.148000</td>\n",
       "      <td>0.322350</td>\n",
       "      <td>182.000000</td>\n",
       "    </tr>\n",
       "    <tr>\n",
       "      <th>50%</th>\n",
       "      <td>0.553400</td>\n",
       "      <td>0.701300</td>\n",
       "      <td>6.000000</td>\n",
       "      <td>0.538300</td>\n",
       "      <td>0.129600</td>\n",
       "      <td>0.035800</td>\n",
       "      <td>0.006500</td>\n",
       "      <td>0.200700</td>\n",
       "      <td>0.361800</td>\n",
       "      <td>0.483500</td>\n",
       "      <td>227.000000</td>\n",
       "    </tr>\n",
       "    <tr>\n",
       "      <th>75%</th>\n",
       "      <td>0.759900</td>\n",
       "      <td>0.895700</td>\n",
       "      <td>9.000000</td>\n",
       "      <td>0.683600</td>\n",
       "      <td>0.450200</td>\n",
       "      <td>0.237500</td>\n",
       "      <td>0.814000</td>\n",
       "      <td>0.501500</td>\n",
       "      <td>0.640800</td>\n",
       "      <td>0.659350</td>\n",
       "      <td>304.000000</td>\n",
       "    </tr>\n",
       "    <tr>\n",
       "      <th>max</th>\n",
       "      <td>1.000000</td>\n",
       "      <td>1.000000</td>\n",
       "      <td>11.000000</td>\n",
       "      <td>0.999500</td>\n",
       "      <td>1.000000</td>\n",
       "      <td>0.999900</td>\n",
       "      <td>1.000000</td>\n",
       "      <td>1.000000</td>\n",
       "      <td>1.000000</td>\n",
       "      <td>1.000000</td>\n",
       "      <td>897.000000</td>\n",
       "    </tr>\n",
       "  </tbody>\n",
       "</table>\n",
       "</div>"
      ],
      "text/plain": [
       "       danceability        energy           key      loudness   speechiness  \\\n",
       "count  25383.000000  25383.000000  25383.000000  25383.000000  25383.000000   \n",
       "mean       0.544519      0.642106      5.368239      0.523904      0.271701   \n",
       "std        0.242362      0.275050      3.660011      0.209811      0.276586   \n",
       "min        0.000000      0.000000      0.000000      0.000000      0.001100   \n",
       "25%        0.340500      0.410000      1.000000      0.372900      0.062950   \n",
       "50%        0.553400      0.701300      6.000000      0.538300      0.129600   \n",
       "75%        0.759900      0.895700      9.000000      0.683600      0.450200   \n",
       "max        1.000000      1.000000     11.000000      0.999500      1.000000   \n",
       "\n",
       "       acousticness  instrumentalness      liveness       valence  \\\n",
       "count  25383.000000      25383.000000  25383.000000  25383.000000   \n",
       "mean       0.178736          0.309931      0.324461      0.403999   \n",
       "std        0.272155          0.399725      0.254626      0.286148   \n",
       "min        0.000000          0.000000      0.000000      0.000000   \n",
       "25%        0.003700          0.000000      0.138100      0.148000   \n",
       "50%        0.035800          0.006500      0.200700      0.361800   \n",
       "75%        0.237500          0.814000      0.501500      0.640800   \n",
       "max        0.999900          1.000000      1.000000      1.000000   \n",
       "\n",
       "              tempo      duration  \n",
       "count  25383.000000  25383.000000  \n",
       "mean       0.503558    253.697514  \n",
       "std        0.222104    103.020340  \n",
       "min        0.007300     28.000000  \n",
       "25%        0.322350    182.000000  \n",
       "50%        0.483500    227.000000  \n",
       "75%        0.659350    304.000000  \n",
       "max        1.000000    897.000000  "
      ]
     },
     "execution_count": 6,
     "metadata": {},
     "output_type": "execute_result"
    }
   ],
   "source": [
    "train.describe()"
   ]
  },
  {
   "cell_type": "code",
   "execution_count": 7,
   "metadata": {},
   "outputs": [
    {
     "data": {
      "text/html": [
       "<div>\n",
       "<style scoped>\n",
       "    .dataframe tbody tr th:only-of-type {\n",
       "        vertical-align: middle;\n",
       "    }\n",
       "\n",
       "    .dataframe tbody tr th {\n",
       "        vertical-align: top;\n",
       "    }\n",
       "\n",
       "    .dataframe thead th {\n",
       "        text-align: right;\n",
       "    }\n",
       "</style>\n",
       "<table border=\"1\" class=\"dataframe\">\n",
       "  <thead>\n",
       "    <tr style=\"text-align: right;\">\n",
       "      <th></th>\n",
       "      <th>danceability</th>\n",
       "      <th>energy</th>\n",
       "      <th>key</th>\n",
       "      <th>loudness</th>\n",
       "      <th>speechiness</th>\n",
       "      <th>acousticness</th>\n",
       "      <th>instrumentalness</th>\n",
       "      <th>liveness</th>\n",
       "      <th>valence</th>\n",
       "      <th>tempo</th>\n",
       "      <th>duration</th>\n",
       "    </tr>\n",
       "  </thead>\n",
       "  <tbody>\n",
       "    <tr>\n",
       "      <th>danceability</th>\n",
       "      <td>1.000000</td>\n",
       "      <td>-0.344994</td>\n",
       "      <td>-0.011137</td>\n",
       "      <td>-0.243275</td>\n",
       "      <td>0.206565</td>\n",
       "      <td>0.109230</td>\n",
       "      <td>-0.066573</td>\n",
       "      <td>-0.211654</td>\n",
       "      <td>0.370560</td>\n",
       "      <td>-0.196659</td>\n",
       "      <td>-0.050280</td>\n",
       "    </tr>\n",
       "    <tr>\n",
       "      <th>energy</th>\n",
       "      <td>-0.344994</td>\n",
       "      <td>1.000000</td>\n",
       "      <td>0.045034</td>\n",
       "      <td>0.583908</td>\n",
       "      <td>-0.161759</td>\n",
       "      <td>-0.485579</td>\n",
       "      <td>0.322109</td>\n",
       "      <td>0.234945</td>\n",
       "      <td>-0.033774</td>\n",
       "      <td>-0.014481</td>\n",
       "      <td>0.298298</td>\n",
       "    </tr>\n",
       "    <tr>\n",
       "      <th>key</th>\n",
       "      <td>-0.011137</td>\n",
       "      <td>0.045034</td>\n",
       "      <td>1.000000</td>\n",
       "      <td>-0.007875</td>\n",
       "      <td>-0.031438</td>\n",
       "      <td>-0.007313</td>\n",
       "      <td>0.070276</td>\n",
       "      <td>0.000197</td>\n",
       "      <td>0.027227</td>\n",
       "      <td>-0.015365</td>\n",
       "      <td>0.069347</td>\n",
       "    </tr>\n",
       "    <tr>\n",
       "      <th>loudness</th>\n",
       "      <td>-0.243275</td>\n",
       "      <td>0.583908</td>\n",
       "      <td>-0.007875</td>\n",
       "      <td>1.000000</td>\n",
       "      <td>0.056422</td>\n",
       "      <td>-0.251495</td>\n",
       "      <td>-0.186585</td>\n",
       "      <td>0.184924</td>\n",
       "      <td>0.072919</td>\n",
       "      <td>0.194186</td>\n",
       "      <td>-0.109717</td>\n",
       "    </tr>\n",
       "    <tr>\n",
       "      <th>speechiness</th>\n",
       "      <td>0.206565</td>\n",
       "      <td>-0.161759</td>\n",
       "      <td>-0.031438</td>\n",
       "      <td>0.056422</td>\n",
       "      <td>1.000000</td>\n",
       "      <td>0.207697</td>\n",
       "      <td>-0.414764</td>\n",
       "      <td>0.068327</td>\n",
       "      <td>0.246963</td>\n",
       "      <td>0.189870</td>\n",
       "      <td>-0.321667</td>\n",
       "    </tr>\n",
       "    <tr>\n",
       "      <th>acousticness</th>\n",
       "      <td>0.109230</td>\n",
       "      <td>-0.485579</td>\n",
       "      <td>-0.007313</td>\n",
       "      <td>-0.251495</td>\n",
       "      <td>0.207697</td>\n",
       "      <td>1.000000</td>\n",
       "      <td>-0.312771</td>\n",
       "      <td>-0.114465</td>\n",
       "      <td>0.131303</td>\n",
       "      <td>0.067047</td>\n",
       "      <td>-0.277882</td>\n",
       "    </tr>\n",
       "    <tr>\n",
       "      <th>instrumentalness</th>\n",
       "      <td>-0.066573</td>\n",
       "      <td>0.322109</td>\n",
       "      <td>0.070276</td>\n",
       "      <td>-0.186585</td>\n",
       "      <td>-0.414764</td>\n",
       "      <td>-0.312771</td>\n",
       "      <td>1.000000</td>\n",
       "      <td>-0.039586</td>\n",
       "      <td>-0.263131</td>\n",
       "      <td>-0.223367</td>\n",
       "      <td>0.602052</td>\n",
       "    </tr>\n",
       "    <tr>\n",
       "      <th>liveness</th>\n",
       "      <td>-0.211654</td>\n",
       "      <td>0.234945</td>\n",
       "      <td>0.000197</td>\n",
       "      <td>0.184924</td>\n",
       "      <td>0.068327</td>\n",
       "      <td>-0.114465</td>\n",
       "      <td>-0.039586</td>\n",
       "      <td>1.000000</td>\n",
       "      <td>-0.020316</td>\n",
       "      <td>0.038450</td>\n",
       "      <td>-0.014935</td>\n",
       "    </tr>\n",
       "    <tr>\n",
       "      <th>valence</th>\n",
       "      <td>0.370560</td>\n",
       "      <td>-0.033774</td>\n",
       "      <td>0.027227</td>\n",
       "      <td>0.072919</td>\n",
       "      <td>0.246963</td>\n",
       "      <td>0.131303</td>\n",
       "      <td>-0.263131</td>\n",
       "      <td>-0.020316</td>\n",
       "      <td>1.000000</td>\n",
       "      <td>0.059902</td>\n",
       "      <td>-0.192495</td>\n",
       "    </tr>\n",
       "    <tr>\n",
       "      <th>tempo</th>\n",
       "      <td>-0.196659</td>\n",
       "      <td>-0.014481</td>\n",
       "      <td>-0.015365</td>\n",
       "      <td>0.194186</td>\n",
       "      <td>0.189870</td>\n",
       "      <td>0.067047</td>\n",
       "      <td>-0.223367</td>\n",
       "      <td>0.038450</td>\n",
       "      <td>0.059902</td>\n",
       "      <td>1.000000</td>\n",
       "      <td>-0.166175</td>\n",
       "    </tr>\n",
       "    <tr>\n",
       "      <th>duration</th>\n",
       "      <td>-0.050280</td>\n",
       "      <td>0.298298</td>\n",
       "      <td>0.069347</td>\n",
       "      <td>-0.109717</td>\n",
       "      <td>-0.321667</td>\n",
       "      <td>-0.277882</td>\n",
       "      <td>0.602052</td>\n",
       "      <td>-0.014935</td>\n",
       "      <td>-0.192495</td>\n",
       "      <td>-0.166175</td>\n",
       "      <td>1.000000</td>\n",
       "    </tr>\n",
       "  </tbody>\n",
       "</table>\n",
       "</div>"
      ],
      "text/plain": [
       "                  danceability    energy       key  loudness  speechiness  \\\n",
       "danceability          1.000000 -0.344994 -0.011137 -0.243275     0.206565   \n",
       "energy               -0.344994  1.000000  0.045034  0.583908    -0.161759   \n",
       "key                  -0.011137  0.045034  1.000000 -0.007875    -0.031438   \n",
       "loudness             -0.243275  0.583908 -0.007875  1.000000     0.056422   \n",
       "speechiness           0.206565 -0.161759 -0.031438  0.056422     1.000000   \n",
       "acousticness          0.109230 -0.485579 -0.007313 -0.251495     0.207697   \n",
       "instrumentalness     -0.066573  0.322109  0.070276 -0.186585    -0.414764   \n",
       "liveness             -0.211654  0.234945  0.000197  0.184924     0.068327   \n",
       "valence               0.370560 -0.033774  0.027227  0.072919     0.246963   \n",
       "tempo                -0.196659 -0.014481 -0.015365  0.194186     0.189870   \n",
       "duration             -0.050280  0.298298  0.069347 -0.109717    -0.321667   \n",
       "\n",
       "                  acousticness  instrumentalness  liveness   valence  \\\n",
       "danceability          0.109230         -0.066573 -0.211654  0.370560   \n",
       "energy               -0.485579          0.322109  0.234945 -0.033774   \n",
       "key                  -0.007313          0.070276  0.000197  0.027227   \n",
       "loudness             -0.251495         -0.186585  0.184924  0.072919   \n",
       "speechiness           0.207697         -0.414764  0.068327  0.246963   \n",
       "acousticness          1.000000         -0.312771 -0.114465  0.131303   \n",
       "instrumentalness     -0.312771          1.000000 -0.039586 -0.263131   \n",
       "liveness             -0.114465         -0.039586  1.000000 -0.020316   \n",
       "valence               0.131303         -0.263131 -0.020316  1.000000   \n",
       "tempo                 0.067047         -0.223367  0.038450  0.059902   \n",
       "duration             -0.277882          0.602052 -0.014935 -0.192495   \n",
       "\n",
       "                     tempo  duration  \n",
       "danceability     -0.196659 -0.050280  \n",
       "energy           -0.014481  0.298298  \n",
       "key              -0.015365  0.069347  \n",
       "loudness          0.194186 -0.109717  \n",
       "speechiness       0.189870 -0.321667  \n",
       "acousticness      0.067047 -0.277882  \n",
       "instrumentalness -0.223367  0.602052  \n",
       "liveness          0.038450 -0.014935  \n",
       "valence           0.059902 -0.192495  \n",
       "tempo             1.000000 -0.166175  \n",
       "duration         -0.166175  1.000000  "
      ]
     },
     "execution_count": 7,
     "metadata": {},
     "output_type": "execute_result"
    }
   ],
   "source": [
    "train.corr()"
   ]
  },
  {
   "attachments": {},
   "cell_type": "markdown",
   "metadata": {},
   "source": [
    "corr\n",
    "\n",
    "energy & loudness 0.58\n",
    "\n",
    "instrumentalness & duration 0.60"
   ]
  },
  {
   "cell_type": "code",
   "execution_count": 8,
   "metadata": {},
   "outputs": [
    {
     "name": "stdout",
     "output_type": "stream",
     "text": [
      "['danceability', 'energy', 'key', 'loudness', 'speechiness', 'acousticness', 'instrumentalness', 'liveness', 'valence', 'tempo', 'duration']\n"
     ]
    }
   ],
   "source": [
    "cols = list(train.drop(columns=['ID','genre']).columns)\n",
    "print(cols)"
   ]
  },
  {
   "cell_type": "code",
   "execution_count": 9,
   "metadata": {},
   "outputs": [],
   "source": [
    "def make_boxplot(cols):\n",
    "    for col in cols:\n",
    "        fig, ax = plt.subplots()\n",
    "        ax.boxplot(train[col])\n",
    "        plt.title(col)\n",
    "        plt.show()"
   ]
  },
  {
   "cell_type": "code",
   "execution_count": 10,
   "metadata": {},
   "outputs": [
    {
     "data": {
      "image/png": "[encoded data removed]",
      "text/plain": [
       "<Figure size 400x300 with 1 Axes>"
      ]
     },
     "metadata": {},
     "output_type": "display_data"
    },
    {
     "data": {
      "image/png": "[encoded data removed]",
      "text/plain": [
       "<Figure size 400x300 with 1 Axes>"
      ]
     },
     "metadata": {},
     "output_type": "display_data"
    },
    {
     "data": {
      "image/png": "[encoded data removed]",
      "text/plain": [
       "<Figure size 400x300 with 1 Axes>"
      ]
     },
     "metadata": {},
     "output_type": "display_data"
    },
    {
     "data": {
      "image/png": "[encoded data removed]",
      "text/plain": [
       "<Figure size 400x300 with 1 Axes>"
      ]
     },
     "metadata": {},
     "output_type": "display_data"
    },
    {
     "data": {
      "image/png": "[encoded data removed]",
      "text/plain": [
       "<Figure size 400x300 with 1 Axes>"
      ]
     },
     "metadata": {},
     "output_type": "display_data"
    },
    {
     "data": {
      "image/png": "[encoded data removed]",
      "text/plain": [
       "<Figure size 400x300 with 1 Axes>"
      ]
     },
     "metadata": {},
     "output_type": "display_data"
    },
    {
     "data": {
      "image/png": "[encoded data removed]",
      "text/plain": [
       "<Figure size 400x300 with 1 Axes>"
      ]
     },
     "metadata": {},
     "output_type": "display_data"
    },
    {
     "data": {
      "image/png": "[encoded data removed]",
      "text/plain": [
       "<Figure size 400x300 with 1 Axes>"
      ]
     },
     "metadata": {},
     "output_type": "display_data"
    },
    {
     "data": {
      "image/png": "[encoded data removed]",
      "text/plain": [
       "<Figure size 400x300 with 1 Axes>"
      ]
     },
     "metadata": {},
     "output_type": "display_data"
    },
    {
     "data": {
      "image/png": "[encoded data removed]",
      "text/plain": [
       "<Figure size 400x300 with 1 Axes>"
      ]
     },
     "metadata": {},
     "output_type": "display_data"
    },
    {
     "data": {
      "image/png": "[encoded data removed]",
      "text/plain": [
       "<Figure size 400x300 with 1 Axes>"
      ]
     },
     "metadata": {},
     "output_type": "display_data"
    }
   ],
   "source": [
    "make_boxplot(cols)"
   ]
  },
  {
   "cell_type": "code",
   "execution_count": 11,
   "metadata": {},
   "outputs": [
    {
     "name": "stdout",
     "output_type": "stream",
     "text": [
      "danceability        False\n",
      "energy              False\n",
      "key                 False\n",
      "loudness            False\n",
      "speechiness         False\n",
      "acousticness         True\n",
      "instrumentalness    False\n",
      "liveness            False\n",
      "valence             False\n",
      "tempo               False\n",
      "duration             True\n",
      "dtype: bool\n",
      "***\n",
      "danceability        False\n",
      "energy              False\n",
      "key                 False\n",
      "loudness            False\n",
      "speechiness         False\n",
      "acousticness        False\n",
      "instrumentalness    False\n",
      "liveness            False\n",
      "valence             False\n",
      "tempo               False\n",
      "duration            False\n",
      "dtype: bool\n"
     ]
    }
   ],
   "source": [
    "train_describe = train.describe()\n",
    "Q1 = train_describe.loc['25%']\n",
    "Q3 = train_describe.loc['75%']\n",
    "IQR = Q3 - Q1\n",
    "min_lim = Q1 - IQR * 1.5\n",
    "max_lim = Q3 + IQR * 1.5\n",
    "max_real = train_describe.loc['max']\n",
    "min_real = train_describe.loc['min']\n",
    "print(max_lim < max_real) # 초과 : acousticness, duration \n",
    "print('***')\n",
    "print(min_lim > min_real) # 미만 : 없음"
   ]
  },
  {
   "cell_type": "code",
   "execution_count": 12,
   "metadata": {},
   "outputs": [
    {
     "name": "stdout",
     "output_type": "stream",
     "text": [
      "25383\n",
      "2981\n",
      "716\n"
     ]
    }
   ],
   "source": [
    "# 이상치 갯수 확인\n",
    "print(len(train))\n",
    "print((train['acousticness'] > max_lim['acousticness']).sum()) # 이상치 2981개 존재\n",
    "print((train['duration'] > max_lim['duration']).sum()) # 이상치 716개 존재"
   ]
  },
  {
   "cell_type": "code",
   "execution_count": 13,
   "metadata": {},
   "outputs": [
    {
     "data": {
      "text/plain": [
       "array(['trap', 'techno', 'Trap Metal', 'Dark Trap', 'Rap',\n",
       "       'Underground Rap', 'hardstyle', 'RnB', 'trance', 'techhouse',\n",
       "       'dnb', 'Hiphop', 'Emo', 'psytrance', 'Pop'], dtype=object)"
      ]
     },
     "execution_count": 13,
     "metadata": {},
     "output_type": "execute_result"
    }
   ],
   "source": [
    "train['genre'].unique()"
   ]
  },
  {
   "cell_type": "code",
   "execution_count": 14,
   "metadata": {},
   "outputs": [],
   "source": [
    "# 라벨 인코딩\n",
    "from sklearn.preprocessing import LabelEncoder\n",
    "encoder = LabelEncoder()\n",
    "train['genre'] = encoder.fit_transform(train['genre'])"
   ]
  },
  {
   "cell_type": "code",
   "execution_count": 15,
   "metadata": {},
   "outputs": [
    {
     "data": {
      "text/plain": [
       "array([14, 12,  6,  0,  4,  7,  9,  5, 13, 11,  8,  2,  1, 10,  3])"
      ]
     },
     "execution_count": 15,
     "metadata": {},
     "output_type": "execute_result"
    }
   ],
   "source": [
    "train['genre'].unique()"
   ]
  },
  {
   "cell_type": "code",
   "execution_count": 16,
   "metadata": {},
   "outputs": [],
   "source": [
    "# 셋 분리\n",
    "x = train.drop(columns='genre')\n",
    "y = train['genre']"
   ]
  },
  {
   "cell_type": "code",
   "execution_count": 17,
   "metadata": {},
   "outputs": [],
   "source": [
    "# 셋 분리\n",
    "from sklearn.model_selection import train_test_split\n",
    "x_train, x_val, y_train, y_val = train_test_split(x, y, test_size=0.2, random_state=10)"
   ]
  },
  {
   "cell_type": "code",
   "execution_count": 18,
   "metadata": {},
   "outputs": [],
   "source": [
    "# id 삭제/기록\n",
    "x_val_id = x_val['ID']\n",
    "x_train = x_train.drop(columns='ID')\n",
    "y_train = y_train.drop(columns='ID')\n",
    "x_val = x_val.drop(columns='ID')"
   ]
  },
  {
   "cell_type": "code",
   "execution_count": 19,
   "metadata": {},
   "outputs": [],
   "source": [
    "x_train_col = list(x_train)"
   ]
  },
  {
   "cell_type": "code",
   "execution_count": 20,
   "metadata": {},
   "outputs": [
    {
     "data": {
      "text/html": [
       "<div>\n",
       "<style scoped>\n",
       "    .dataframe tbody tr th:only-of-type {\n",
       "        vertical-align: middle;\n",
       "    }\n",
       "\n",
       "    .dataframe tbody tr th {\n",
       "        vertical-align: top;\n",
       "    }\n",
       "\n",
       "    .dataframe thead th {\n",
       "        text-align: right;\n",
       "    }\n",
       "</style>\n",
       "<table border=\"1\" class=\"dataframe\">\n",
       "  <thead>\n",
       "    <tr style=\"text-align: right;\">\n",
       "      <th></th>\n",
       "      <th>danceability</th>\n",
       "      <th>energy</th>\n",
       "      <th>key</th>\n",
       "      <th>loudness</th>\n",
       "      <th>speechiness</th>\n",
       "      <th>acousticness</th>\n",
       "      <th>instrumentalness</th>\n",
       "      <th>liveness</th>\n",
       "      <th>valence</th>\n",
       "      <th>tempo</th>\n",
       "      <th>duration</th>\n",
       "    </tr>\n",
       "  </thead>\n",
       "  <tbody>\n",
       "    <tr>\n",
       "      <th>2980</th>\n",
       "      <td>0.8837</td>\n",
       "      <td>0.3838</td>\n",
       "      <td>8</td>\n",
       "      <td>0.7750</td>\n",
       "      <td>0.4870</td>\n",
       "      <td>0.0764</td>\n",
       "      <td>0.0000</td>\n",
       "      <td>0.0905</td>\n",
       "      <td>0.1384</td>\n",
       "      <td>0.8829</td>\n",
       "      <td>208</td>\n",
       "    </tr>\n",
       "    <tr>\n",
       "      <th>3198</th>\n",
       "      <td>0.5734</td>\n",
       "      <td>0.1770</td>\n",
       "      <td>1</td>\n",
       "      <td>0.1355</td>\n",
       "      <td>0.6900</td>\n",
       "      <td>0.2086</td>\n",
       "      <td>0.0000</td>\n",
       "      <td>0.0981</td>\n",
       "      <td>0.7660</td>\n",
       "      <td>0.6784</td>\n",
       "      <td>229</td>\n",
       "    </tr>\n",
       "    <tr>\n",
       "      <th>18383</th>\n",
       "      <td>0.8417</td>\n",
       "      <td>0.2937</td>\n",
       "      <td>2</td>\n",
       "      <td>0.3729</td>\n",
       "      <td>0.7250</td>\n",
       "      <td>0.6920</td>\n",
       "      <td>0.0029</td>\n",
       "      <td>0.4222</td>\n",
       "      <td>0.2185</td>\n",
       "      <td>0.3049</td>\n",
       "      <td>145</td>\n",
       "    </tr>\n",
       "    <tr>\n",
       "      <th>10027</th>\n",
       "      <td>0.3139</td>\n",
       "      <td>0.9598</td>\n",
       "      <td>11</td>\n",
       "      <td>0.7723</td>\n",
       "      <td>0.2296</td>\n",
       "      <td>0.0039</td>\n",
       "      <td>0.4807</td>\n",
       "      <td>0.2428</td>\n",
       "      <td>0.5670</td>\n",
       "      <td>0.5397</td>\n",
       "      <td>220</td>\n",
       "    </tr>\n",
       "    <tr>\n",
       "      <th>22068</th>\n",
       "      <td>0.9879</td>\n",
       "      <td>0.5709</td>\n",
       "      <td>1</td>\n",
       "      <td>0.3658</td>\n",
       "      <td>0.7817</td>\n",
       "      <td>0.0697</td>\n",
       "      <td>0.0061</td>\n",
       "      <td>0.0451</td>\n",
       "      <td>0.7030</td>\n",
       "      <td>0.3140</td>\n",
       "      <td>371</td>\n",
       "    </tr>\n",
       "    <tr>\n",
       "      <th>...</th>\n",
       "      <td>...</td>\n",
       "      <td>...</td>\n",
       "      <td>...</td>\n",
       "      <td>...</td>\n",
       "      <td>...</td>\n",
       "      <td>...</td>\n",
       "      <td>...</td>\n",
       "      <td>...</td>\n",
       "      <td>...</td>\n",
       "      <td>...</td>\n",
       "      <td>...</td>\n",
       "    </tr>\n",
       "    <tr>\n",
       "      <th>9372</th>\n",
       "      <td>0.2015</td>\n",
       "      <td>0.6132</td>\n",
       "      <td>3</td>\n",
       "      <td>0.7461</td>\n",
       "      <td>0.0219</td>\n",
       "      <td>0.0431</td>\n",
       "      <td>0.0000</td>\n",
       "      <td>0.1355</td>\n",
       "      <td>0.1901</td>\n",
       "      <td>0.5394</td>\n",
       "      <td>265</td>\n",
       "    </tr>\n",
       "    <tr>\n",
       "      <th>7291</th>\n",
       "      <td>0.5534</td>\n",
       "      <td>0.4966</td>\n",
       "      <td>8</td>\n",
       "      <td>0.4433</td>\n",
       "      <td>0.4818</td>\n",
       "      <td>0.0051</td>\n",
       "      <td>0.0010</td>\n",
       "      <td>0.1615</td>\n",
       "      <td>0.1071</td>\n",
       "      <td>0.3443</td>\n",
       "      <td>163</td>\n",
       "    </tr>\n",
       "    <tr>\n",
       "      <th>17728</th>\n",
       "      <td>0.1790</td>\n",
       "      <td>0.8717</td>\n",
       "      <td>5</td>\n",
       "      <td>0.5656</td>\n",
       "      <td>0.0611</td>\n",
       "      <td>0.0011</td>\n",
       "      <td>0.0146</td>\n",
       "      <td>0.8435</td>\n",
       "      <td>0.2437</td>\n",
       "      <td>0.4056</td>\n",
       "      <td>160</td>\n",
       "    </tr>\n",
       "    <tr>\n",
       "      <th>7293</th>\n",
       "      <td>0.5061</td>\n",
       "      <td>0.8853</td>\n",
       "      <td>6</td>\n",
       "      <td>0.7192</td>\n",
       "      <td>0.0525</td>\n",
       "      <td>0.3833</td>\n",
       "      <td>0.0531</td>\n",
       "      <td>0.1738</td>\n",
       "      <td>0.1456</td>\n",
       "      <td>0.4285</td>\n",
       "      <td>147</td>\n",
       "    </tr>\n",
       "    <tr>\n",
       "      <th>17673</th>\n",
       "      <td>0.3714</td>\n",
       "      <td>0.3313</td>\n",
       "      <td>1</td>\n",
       "      <td>0.1507</td>\n",
       "      <td>0.1592</td>\n",
       "      <td>0.1092</td>\n",
       "      <td>0.2407</td>\n",
       "      <td>0.1685</td>\n",
       "      <td>0.2225</td>\n",
       "      <td>0.8296</td>\n",
       "      <td>144</td>\n",
       "    </tr>\n",
       "  </tbody>\n",
       "</table>\n",
       "<p>20306 rows × 11 columns</p>\n",
       "</div>"
      ],
      "text/plain": [
       "       danceability  energy  key  loudness  speechiness  acousticness  \\\n",
       "2980         0.8837  0.3838    8    0.7750       0.4870        0.0764   \n",
       "3198         0.5734  0.1770    1    0.1355       0.6900        0.2086   \n",
       "18383        0.8417  0.2937    2    0.3729       0.7250        0.6920   \n",
       "10027        0.3139  0.9598   11    0.7723       0.2296        0.0039   \n",
       "22068        0.9879  0.5709    1    0.3658       0.7817        0.0697   \n",
       "...             ...     ...  ...       ...          ...           ...   \n",
       "9372         0.2015  0.6132    3    0.7461       0.0219        0.0431   \n",
       "7291         0.5534  0.4966    8    0.4433       0.4818        0.0051   \n",
       "17728        0.1790  0.8717    5    0.5656       0.0611        0.0011   \n",
       "7293         0.5061  0.8853    6    0.7192       0.0525        0.3833   \n",
       "17673        0.3714  0.3313    1    0.1507       0.1592        0.1092   \n",
       "\n",
       "       instrumentalness  liveness  valence   tempo  duration  \n",
       "2980             0.0000    0.0905   0.1384  0.8829       208  \n",
       "3198             0.0000    0.0981   0.7660  0.6784       229  \n",
       "18383            0.0029    0.4222   0.2185  0.3049       145  \n",
       "10027            0.4807    0.2428   0.5670  0.5397       220  \n",
       "22068            0.0061    0.0451   0.7030  0.3140       371  \n",
       "...                 ...       ...      ...     ...       ...  \n",
       "9372             0.0000    0.1355   0.1901  0.5394       265  \n",
       "7291             0.0010    0.1615   0.1071  0.3443       163  \n",
       "17728            0.0146    0.8435   0.2437  0.4056       160  \n",
       "7293             0.0531    0.1738   0.1456  0.4285       147  \n",
       "17673            0.2407    0.1685   0.2225  0.8296       144  \n",
       "\n",
       "[20306 rows x 11 columns]"
      ]
     },
     "execution_count": 20,
     "metadata": {},
     "output_type": "execute_result"
    }
   ],
   "source": [
    "x_train"
   ]
  },
  {
   "cell_type": "code",
   "execution_count": 21,
   "metadata": {},
   "outputs": [
    {
     "data": {
      "text/plain": [
       "((20306, 11), (5077, 11), (20306,), (5077,))"
      ]
     },
     "execution_count": 21,
     "metadata": {},
     "output_type": "execute_result"
    }
   ],
   "source": [
    "x_train.shape, x_val.shape, y_train.shape, y_val.shape"
   ]
  },
  {
   "cell_type": "code",
   "execution_count": 22,
   "metadata": {},
   "outputs": [],
   "source": [
    "# # 0.6299\n",
    "# from sklearn.ensemble import RandomForestClassifier\n",
    "# model = RandomForestClassifier()\n",
    "# model.fit(x_train, y_train)\n",
    "# y_val_pred = model.predict(x_val)"
   ]
  },
  {
   "cell_type": "code",
   "execution_count": 23,
   "metadata": {},
   "outputs": [],
   "source": [
    "# 0.6475\n",
    "from xgboost import XGBClassifier\n",
    "model = XGBClassifier()\n",
    "model.fit(x_train, y_train)\n",
    "y_val_pred = model.predict(x_val)"
   ]
  },
  {
   "cell_type": "code",
   "execution_count": 24,
   "metadata": {},
   "outputs": [],
   "source": [
    "# # 0.6391\n",
    "# from catboost import CatBoostClassifier\n",
    "# model = CatBoostClassifier()\n",
    "# model.fit(x_train, y_train)\n",
    "# y_val_pred = model.predict(x_val)"
   ]
  },
  {
   "cell_type": "code",
   "execution_count": 25,
   "metadata": {},
   "outputs": [],
   "source": [
    "# # 0.6449\n",
    "# import lightgbm as lgb\n",
    "# model = lgb.LGBMClassifier()\n",
    "# model.fit(x_train, y_train)\n",
    "# y_val_pred = model.predict(x_val)"
   ]
  },
  {
   "cell_type": "code",
   "execution_count": 26,
   "metadata": {},
   "outputs": [
    {
     "data": {
      "text/html": [
       "<div>\n",
       "<style scoped>\n",
       "    .dataframe tbody tr th:only-of-type {\n",
       "        vertical-align: middle;\n",
       "    }\n",
       "\n",
       "    .dataframe tbody tr th {\n",
       "        vertical-align: top;\n",
       "    }\n",
       "\n",
       "    .dataframe thead th {\n",
       "        text-align: right;\n",
       "    }\n",
       "</style>\n",
       "<table border=\"1\" class=\"dataframe\">\n",
       "  <thead>\n",
       "    <tr style=\"text-align: right;\">\n",
       "      <th></th>\n",
       "      <th>genre</th>\n",
       "    </tr>\n",
       "  </thead>\n",
       "  <tbody>\n",
       "    <tr>\n",
       "      <th>0</th>\n",
       "      <td>1</td>\n",
       "    </tr>\n",
       "    <tr>\n",
       "      <th>1</th>\n",
       "      <td>5</td>\n",
       "    </tr>\n",
       "    <tr>\n",
       "      <th>2</th>\n",
       "      <td>7</td>\n",
       "    </tr>\n",
       "    <tr>\n",
       "      <th>3</th>\n",
       "      <td>6</td>\n",
       "    </tr>\n",
       "    <tr>\n",
       "      <th>4</th>\n",
       "      <td>0</td>\n",
       "    </tr>\n",
       "    <tr>\n",
       "      <th>...</th>\n",
       "      <td>...</td>\n",
       "    </tr>\n",
       "    <tr>\n",
       "      <th>5072</th>\n",
       "      <td>12</td>\n",
       "    </tr>\n",
       "    <tr>\n",
       "      <th>5073</th>\n",
       "      <td>12</td>\n",
       "    </tr>\n",
       "    <tr>\n",
       "      <th>5074</th>\n",
       "      <td>4</td>\n",
       "    </tr>\n",
       "    <tr>\n",
       "      <th>5075</th>\n",
       "      <td>0</td>\n",
       "    </tr>\n",
       "    <tr>\n",
       "      <th>5076</th>\n",
       "      <td>11</td>\n",
       "    </tr>\n",
       "  </tbody>\n",
       "</table>\n",
       "<p>5077 rows × 1 columns</p>\n",
       "</div>"
      ],
      "text/plain": [
       "      genre\n",
       "0         1\n",
       "1         5\n",
       "2         7\n",
       "3         6\n",
       "4         0\n",
       "...     ...\n",
       "5072     12\n",
       "5073     12\n",
       "5074      4\n",
       "5075      0\n",
       "5076     11\n",
       "\n",
       "[5077 rows x 1 columns]"
      ]
     },
     "execution_count": 26,
     "metadata": {},
     "output_type": "execute_result"
    }
   ],
   "source": [
    "y_val_pred = pd.DataFrame(y_val_pred).rename(columns = {0:'genre'})\n",
    "y_val_pred"
   ]
  },
  {
   "cell_type": "code",
   "execution_count": 27,
   "metadata": {},
   "outputs": [
    {
     "name": "stdout",
     "output_type": "stream",
     "text": [
      "score: 0.6475705273449078\n"
     ]
    }
   ],
   "source": [
    "##### 모델 스코어 확인 \n",
    "from sklearn.metrics import f1_score\n",
    "print('score:' , f1_score(y_val, y_val_pred, average='macro'))"
   ]
  },
  {
   "cell_type": "code",
   "execution_count": 28,
   "metadata": {},
   "outputs": [],
   "source": [
    "import optuna\n",
    "from optuna import Trial, visualization\n",
    "from optuna.samplers import TPESampler\n",
    "from sklearn.metrics import mean_absolute_error"
   ]
  },
  {
   "cell_type": "code",
   "execution_count": 29,
   "metadata": {},
   "outputs": [],
   "source": [
    "# XGB 하이퍼 파라미터들 값 지정\n",
    "def objectiveXGB(trial: Trial, X, y, test):\n",
    "    param = {\n",
    "        'n_estimators' : trial.suggest_int('n_estimators', 500, 4000),\n",
    "        'max_depth' : trial.suggest_int('max_depth', 8, 16),\n",
    "        'min_child_weight' : trial.suggest_int('min_child_weight', 1, 300),\n",
    "        'gamma' : trial.suggest_int('gamma', 1, 3),\n",
    "        'learning_rate' : 0.01,\n",
    "        'colsample_bytree' : trial.suggest_discrete_uniform('colsample_bytree', 0.5, 1, 0.1),\n",
    "        'nthread' : -1,\n",
    "        'tree_method' : 'gpu_hist', # gpu 사용\n",
    "        'predictor' : 'gpu_predictor', # gpu 사용\n",
    "        'lambda' : trial.suggest_loguniform('lambda', 1e-3, 10.0),\n",
    "        'alpha' : trial.suggest_loguniform('alpha', 1e-3, 10.0),\n",
    "        'subsample' : trial.suggest_categorical('subsample', [0.6,0.7,0.8,1.0]),\n",
    "        'random_state' : 42\n",
    "    }\n",
    "    \n",
    "    # 학습 모델 생성\n",
    "    model = XGBClassifier(**param)\n",
    "    xgb_model = model.fit(x_train, y_train, verbose=True) # 학습 진행\n",
    "    \n",
    "    # 모델 성능 확인\n",
    "    # score = mean_absolute_error(xgb_model.predict(x_val), y_val)\n",
    "    score = f1_score(xgb_model.predict(x_val), y_val, average='macro')\n",
    "    \n",
    "    return score"
   ]
  },
  {
   "cell_type": "code",
   "execution_count": 30,
   "metadata": {},
   "outputs": [
    {
     "name": "stderr",
     "output_type": "stream",
     "text": [
      "\u001b[32m[I 2023-02-03 01:43:36,591]\u001b[0m A new study created in memory with name: no-name-9e55ac87-2f79-4d94-a1bc-34200b94055b\u001b[0m\n",
      "\u001b[32m[I 2023-02-03 01:44:20,928]\u001b[0m Trial 0 finished with value: 0.5937453412649017 and parameters: {'n_estimators': 1440, 'max_depth': 11, 'min_child_weight': 238, 'gamma': 1, 'colsample_bytree': 0.7, 'lambda': 0.03972542211565023, 'alpha': 0.02660054249559949, 'subsample': 0.8}. Best is trial 0 with value: 0.5937453412649017.\u001b[0m\n",
      "\u001b[32m[I 2023-02-03 01:45:17,301]\u001b[0m Trial 1 finished with value: 0.6511054869852064 and parameters: {'n_estimators': 1116, 'max_depth': 8, 'min_child_weight': 2, 'gamma': 1, 'colsample_bytree': 1.0, 'lambda': 0.06647769673850855, 'alpha': 0.0031950708686134207, 'subsample': 0.8}. Best is trial 1 with value: 0.6511054869852064.\u001b[0m\n",
      "\u001b[32m[I 2023-02-03 01:45:55,933]\u001b[0m Trial 2 finished with value: 0.6014706995807284 and parameters: {'n_estimators': 1232, 'max_depth': 15, 'min_child_weight': 231, 'gamma': 3, 'colsample_bytree': 0.9, 'lambda': 0.004603469737898063, 'alpha': 0.007410325041636813, 'subsample': 1.0}. Best is trial 1 with value: 0.6511054869852064.\u001b[0m\n",
      "\u001b[32m[I 2023-02-03 01:47:15,435]\u001b[0m Trial 3 finished with value: 0.6516298321476647 and parameters: {'n_estimators': 1795, 'max_depth': 9, 'min_child_weight': 60, 'gamma': 1, 'colsample_bytree': 0.9, 'lambda': 9.713572700385038, 'alpha': 0.001498788390751351, 'subsample': 0.8}. Best is trial 3 with value: 0.6516298321476647.\u001b[0m\n",
      "\u001b[32m[I 2023-02-03 01:48:06,604]\u001b[0m Trial 4 finished with value: 0.5869589959867086 and parameters: {'n_estimators': 1795, 'max_depth': 9, 'min_child_weight': 267, 'gamma': 2, 'colsample_bytree': 0.9, 'lambda': 1.6234401928117927, 'alpha': 0.11823459007604523, 'subsample': 0.7}. Best is trial 3 with value: 0.6516298321476647.\u001b[0m\n",
      "\u001b[32m[I 2023-02-03 01:49:13,412]\u001b[0m Trial 5 finished with value: 0.6073022567778832 and parameters: {'n_estimators': 1951, 'max_depth': 16, 'min_child_weight': 157, 'gamma': 1, 'colsample_bytree': 0.7, 'lambda': 0.009370417231098459, 'alpha': 0.47569060319567896, 'subsample': 0.7}. Best is trial 3 with value: 0.6516298321476647.\u001b[0m\n",
      "\u001b[32m[I 2023-02-03 01:50:24,979]\u001b[0m Trial 6 finished with value: 0.6054390673537652 and parameters: {'n_estimators': 2838, 'max_depth': 14, 'min_child_weight': 198, 'gamma': 3, 'colsample_bytree': 0.8, 'lambda': 0.577270848600944, 'alpha': 0.010245949357941883, 'subsample': 1.0}. Best is trial 3 with value: 0.6516298321476647.\u001b[0m\n",
      "\u001b[32m[I 2023-02-03 01:51:37,864]\u001b[0m Trial 7 finished with value: 0.6081648933848516 and parameters: {'n_estimators': 2866, 'max_depth': 12, 'min_child_weight': 179, 'gamma': 3, 'colsample_bytree': 0.5, 'lambda': 2.510770528450635, 'alpha': 0.028076889703965307, 'subsample': 1.0}. Best is trial 3 with value: 0.6516298321476647.\u001b[0m\n",
      "\u001b[32m[I 2023-02-03 01:52:26,241]\u001b[0m Trial 8 finished with value: 0.6185410173725093 and parameters: {'n_estimators': 1354, 'max_depth': 16, 'min_child_weight': 119, 'gamma': 2, 'colsample_bytree': 0.5, 'lambda': 0.0030234114505968863, 'alpha': 0.10336885278831383, 'subsample': 1.0}. Best is trial 3 with value: 0.6516298321476647.\u001b[0m\n",
      "\u001b[32m[I 2023-02-03 01:53:06,204]\u001b[0m Trial 9 finished with value: 0.6123965990963617 and parameters: {'n_estimators': 1106, 'max_depth': 12, 'min_child_weight': 128, 'gamma': 3, 'colsample_bytree': 1.0, 'lambda': 0.31191184098704083, 'alpha': 0.05754521678744243, 'subsample': 1.0}. Best is trial 3 with value: 0.6516298321476647.\u001b[0m\n",
      "\u001b[32m[I 2023-02-03 01:55:40,151]\u001b[0m Trial 10 finished with value: 0.6463302535419139 and parameters: {'n_estimators': 3963, 'max_depth': 10, 'min_child_weight': 45, 'gamma': 1, 'colsample_bytree': 0.8, 'lambda': 7.742322157455804, 'alpha': 0.0010934517434332118, 'subsample': 0.6}. Best is trial 3 with value: 0.6516298321476647.\u001b[0m\n",
      "\u001b[32m[I 2023-02-03 01:56:11,304]\u001b[0m Trial 11 finished with value: 0.6471385261612451 and parameters: {'n_estimators': 531, 'max_depth': 8, 'min_child_weight': 1, 'gamma': 1, 'colsample_bytree': 1.0, 'lambda': 0.0692854785270484, 'alpha': 0.0011441562691363182, 'subsample': 0.8}. Best is trial 3 with value: 0.6516298321476647.\u001b[0m\n",
      "\u001b[32m[I 2023-02-03 01:56:35,804]\u001b[0m Trial 12 finished with value: 0.6189545104251402 and parameters: {'n_estimators': 572, 'max_depth': 8, 'min_child_weight': 72, 'gamma': 2, 'colsample_bytree': 0.9, 'lambda': 9.526922938681999, 'alpha': 6.629276979706666, 'subsample': 0.8}. Best is trial 3 with value: 0.6516298321476647.\u001b[0m\n",
      "\u001b[32m[I 2023-02-03 01:58:11,196]\u001b[0m Trial 13 finished with value: 0.6508403453582694 and parameters: {'n_estimators': 2442, 'max_depth': 10, 'min_child_weight': 4, 'gamma': 1, 'colsample_bytree': 1.0, 'lambda': 0.2654801895501073, 'alpha': 0.00434036284462271, 'subsample': 0.8}. Best is trial 3 with value: 0.6516298321476647.\u001b[0m\n",
      "\u001b[32m[I 2023-02-03 01:59:45,070]\u001b[0m Trial 14 finished with value: 0.6463506035030573 and parameters: {'n_estimators': 2464, 'max_depth': 9, 'min_child_weight': 70, 'gamma': 1, 'colsample_bytree': 0.9, 'lambda': 0.02202438316557087, 'alpha': 0.002531182792044281, 'subsample': 0.8}. Best is trial 3 with value: 0.6516298321476647.\u001b[0m\n",
      "\u001b[32m[I 2023-02-03 02:00:50,562]\u001b[0m Trial 15 finished with value: 0.6471776586500382 and parameters: {'n_estimators': 1966, 'max_depth': 8, 'min_child_weight': 45, 'gamma': 2, 'colsample_bytree': 1.0, 'lambda': 0.0012199757929641265, 'alpha': 0.0024980264312634373, 'subsample': 0.6}. Best is trial 3 with value: 0.6516298321476647.\u001b[0m\n",
      "\u001b[32m[I 2023-02-03 02:01:28,987]\u001b[0m Trial 16 finished with value: 0.6192402448886258 and parameters: {'n_estimators': 931, 'max_depth': 10, 'min_child_weight': 98, 'gamma': 1, 'colsample_bytree': 0.8, 'lambda': 0.12528632594254058, 'alpha': 0.009853865501818179, 'subsample': 0.8}. Best is trial 3 with value: 0.6516298321476647.\u001b[0m\n",
      "\u001b[33m[W 2023-02-03 02:02:29,470]\u001b[0m Trial 17 failed with parameters: {'n_estimators': 3499, 'max_depth': 13, 'min_child_weight': 30, 'gamma': 2, 'colsample_bytree': 0.6, 'lambda': 0.1436332553836388, 'alpha': 0.0011550175460775121, 'subsample': 0.8} because of the following error: KeyboardInterrupt().\u001b[0m\n",
      "Traceback (most recent call last):\n",
      "  File \"C:\\Users\\roy57\\AppData\\Roaming\\Python\\Python39\\site-packages\\optuna\\study\\_optimize.py\", line 200, in _run_trial\n",
      "    value_or_values = func(trial)\n",
      "  File \"C:\\Users\\roy57\\AppData\\Local\\Temp\\ipykernel_26224\\3215430967.py\", line 6, in <lambda>\n",
      "    study.optimize(lambda trial : objectiveXGB(trial, x_train, y_train, x_val), n_trials = 100) # 50\n",
      "  File \"C:\\Users\\roy57\\AppData\\Local\\Temp\\ipykernel_26224\\685737466.py\", line 21, in objectiveXGB\n",
      "    xgb_model = model.fit(x_train, y_train, verbose=True) # 학습 진행\n",
      "  File \"C:\\Users\\roy57\\AppData\\Roaming\\Python\\Python39\\site-packages\\xgboost\\core.py\", line 620, in inner_f\n",
      "    return func(**kwargs)\n",
      "  File \"C:\\Users\\roy57\\AppData\\Roaming\\Python\\Python39\\site-packages\\xgboost\\sklearn.py\", line 1490, in fit\n",
      "    self._Booster = train(\n",
      "  File \"C:\\Users\\roy57\\AppData\\Roaming\\Python\\Python39\\site-packages\\xgboost\\core.py\", line 620, in inner_f\n",
      "    return func(**kwargs)\n",
      "  File \"C:\\Users\\roy57\\AppData\\Roaming\\Python\\Python39\\site-packages\\xgboost\\training.py\", line 185, in train\n",
      "    bst.update(dtrain, i, obj)\n",
      "  File \"C:\\Users\\roy57\\AppData\\Roaming\\Python\\Python39\\site-packages\\xgboost\\core.py\", line 1918, in update\n",
      "    _check_call(_LIB.XGBoosterUpdateOneIter(self.handle,\n",
      "KeyboardInterrupt\n",
      "\u001b[33m[W 2023-02-03 02:02:29,472]\u001b[0m Trial 17 failed with value None.\u001b[0m\n"
     ]
    },
    {
     "ename": "KeyboardInterrupt",
     "evalue": "",
     "output_type": "error",
     "traceback": [
      "\u001b[1;31m---------------------------------------------------------------------------\u001b[0m",
      "\u001b[1;31mKeyboardInterrupt\u001b[0m                         Traceback (most recent call last)",
      "Cell \u001b[1;32mIn[30], line 6\u001b[0m\n\u001b[0;32m      3\u001b[0m study \u001b[39m=\u001b[39m optuna\u001b[39m.\u001b[39mcreate_study(direction\u001b[39m=\u001b[39m\u001b[39m'\u001b[39m\u001b[39mmaximize\u001b[39m\u001b[39m'\u001b[39m, sampler\u001b[39m=\u001b[39mTPESampler())\n\u001b[0;32m      5\u001b[0m \u001b[39m# n_trials 지정해주지 않으면, 무한 반복\u001b[39;00m\n\u001b[1;32m----> 6\u001b[0m study\u001b[39m.\u001b[39;49moptimize(\u001b[39mlambda\u001b[39;49;00m trial : objectiveXGB(trial, x_train, y_train, x_val), n_trials \u001b[39m=\u001b[39;49m \u001b[39m100\u001b[39;49m) \u001b[39m# 50\u001b[39;00m\n\u001b[0;32m      8\u001b[0m \u001b[39mprint\u001b[39m(\u001b[39m'\u001b[39m\u001b[39mBest trial : score \u001b[39m\u001b[39m{}\u001b[39;00m\u001b[39m, \u001b[39m\u001b[39m\\n\u001b[39;00m\u001b[39mparams \u001b[39m\u001b[39m{}\u001b[39;00m\u001b[39m'\u001b[39m\u001b[39m.\u001b[39mformat(study\u001b[39m.\u001b[39mbest_trial\u001b[39m.\u001b[39mvalue, study\u001b[39m.\u001b[39mbest_trial\u001b[39m.\u001b[39mparams))\n",
      "File \u001b[1;32m~\\AppData\\Roaming\\Python\\Python39\\site-packages\\optuna\\study\\study.py:425\u001b[0m, in \u001b[0;36mStudy.optimize\u001b[1;34m(self, func, n_trials, timeout, n_jobs, catch, callbacks, gc_after_trial, show_progress_bar)\u001b[0m\n\u001b[0;32m    321\u001b[0m \u001b[39mdef\u001b[39;00m \u001b[39moptimize\u001b[39m(\n\u001b[0;32m    322\u001b[0m     \u001b[39mself\u001b[39m,\n\u001b[0;32m    323\u001b[0m     func: ObjectiveFuncType,\n\u001b[1;32m   (...)\u001b[0m\n\u001b[0;32m    330\u001b[0m     show_progress_bar: \u001b[39mbool\u001b[39m \u001b[39m=\u001b[39m \u001b[39mFalse\u001b[39;00m,\n\u001b[0;32m    331\u001b[0m ) \u001b[39m-\u001b[39m\u001b[39m>\u001b[39m \u001b[39mNone\u001b[39;00m:\n\u001b[0;32m    332\u001b[0m     \u001b[39m\"\"\"Optimize an objective function.\u001b[39;00m\n\u001b[0;32m    333\u001b[0m \n\u001b[0;32m    334\u001b[0m \u001b[39m    Optimization is done by choosing a suitable set of hyperparameter values from a given\u001b[39;00m\n\u001b[1;32m   (...)\u001b[0m\n\u001b[0;32m    422\u001b[0m \u001b[39m            If nested invocation of this method occurs.\u001b[39;00m\n\u001b[0;32m    423\u001b[0m \u001b[39m    \"\"\"\u001b[39;00m\n\u001b[1;32m--> 425\u001b[0m     _optimize(\n\u001b[0;32m    426\u001b[0m         study\u001b[39m=\u001b[39;49m\u001b[39mself\u001b[39;49m,\n\u001b[0;32m    427\u001b[0m         func\u001b[39m=\u001b[39;49mfunc,\n\u001b[0;32m    428\u001b[0m         n_trials\u001b[39m=\u001b[39;49mn_trials,\n\u001b[0;32m    429\u001b[0m         timeout\u001b[39m=\u001b[39;49mtimeout,\n\u001b[0;32m    430\u001b[0m         n_jobs\u001b[39m=\u001b[39;49mn_jobs,\n\u001b[0;32m    431\u001b[0m         catch\u001b[39m=\u001b[39;49m\u001b[39mtuple\u001b[39;49m(catch) \u001b[39mif\u001b[39;49;00m \u001b[39misinstance\u001b[39;49m(catch, Iterable) \u001b[39melse\u001b[39;49;00m (catch,),\n\u001b[0;32m    432\u001b[0m         callbacks\u001b[39m=\u001b[39;49mcallbacks,\n\u001b[0;32m    433\u001b[0m         gc_after_trial\u001b[39m=\u001b[39;49mgc_after_trial,\n\u001b[0;32m    434\u001b[0m         show_progress_bar\u001b[39m=\u001b[39;49mshow_progress_bar,\n\u001b[0;32m    435\u001b[0m     )\n",
      "File \u001b[1;32m~\\AppData\\Roaming\\Python\\Python39\\site-packages\\optuna\\study\\_optimize.py:66\u001b[0m, in \u001b[0;36m_optimize\u001b[1;34m(study, func, n_trials, timeout, n_jobs, catch, callbacks, gc_after_trial, show_progress_bar)\u001b[0m\n\u001b[0;32m     64\u001b[0m \u001b[39mtry\u001b[39;00m:\n\u001b[0;32m     65\u001b[0m     \u001b[39mif\u001b[39;00m n_jobs \u001b[39m==\u001b[39m \u001b[39m1\u001b[39m:\n\u001b[1;32m---> 66\u001b[0m         _optimize_sequential(\n\u001b[0;32m     67\u001b[0m             study,\n\u001b[0;32m     68\u001b[0m             func,\n\u001b[0;32m     69\u001b[0m             n_trials,\n\u001b[0;32m     70\u001b[0m             timeout,\n\u001b[0;32m     71\u001b[0m             catch,\n\u001b[0;32m     72\u001b[0m             callbacks,\n\u001b[0;32m     73\u001b[0m             gc_after_trial,\n\u001b[0;32m     74\u001b[0m             reseed_sampler_rng\u001b[39m=\u001b[39;49m\u001b[39mFalse\u001b[39;49;00m,\n\u001b[0;32m     75\u001b[0m             time_start\u001b[39m=\u001b[39;49m\u001b[39mNone\u001b[39;49;00m,\n\u001b[0;32m     76\u001b[0m             progress_bar\u001b[39m=\u001b[39;49mprogress_bar,\n\u001b[0;32m     77\u001b[0m         )\n\u001b[0;32m     78\u001b[0m     \u001b[39melse\u001b[39;00m:\n\u001b[0;32m     79\u001b[0m         \u001b[39mif\u001b[39;00m n_jobs \u001b[39m==\u001b[39m \u001b[39m-\u001b[39m\u001b[39m1\u001b[39m:\n",
      "File \u001b[1;32m~\\AppData\\Roaming\\Python\\Python39\\site-packages\\optuna\\study\\_optimize.py:163\u001b[0m, in \u001b[0;36m_optimize_sequential\u001b[1;34m(study, func, n_trials, timeout, catch, callbacks, gc_after_trial, reseed_sampler_rng, time_start, progress_bar)\u001b[0m\n\u001b[0;32m    160\u001b[0m         \u001b[39mbreak\u001b[39;00m\n\u001b[0;32m    162\u001b[0m \u001b[39mtry\u001b[39;00m:\n\u001b[1;32m--> 163\u001b[0m     frozen_trial \u001b[39m=\u001b[39m _run_trial(study, func, catch)\n\u001b[0;32m    164\u001b[0m \u001b[39mfinally\u001b[39;00m:\n\u001b[0;32m    165\u001b[0m     \u001b[39m# The following line mitigates memory problems that can be occurred in some\u001b[39;00m\n\u001b[0;32m    166\u001b[0m     \u001b[39m# environments (e.g., services that use computing containers such as GitHub Actions).\u001b[39;00m\n\u001b[0;32m    167\u001b[0m     \u001b[39m# Please refer to the following PR for further details:\u001b[39;00m\n\u001b[0;32m    168\u001b[0m     \u001b[39m# https://github.com/optuna/optuna/pull/325.\u001b[39;00m\n\u001b[0;32m    169\u001b[0m     \u001b[39mif\u001b[39;00m gc_after_trial:\n",
      "File \u001b[1;32m~\\AppData\\Roaming\\Python\\Python39\\site-packages\\optuna\\study\\_optimize.py:251\u001b[0m, in \u001b[0;36m_run_trial\u001b[1;34m(study, func, catch)\u001b[0m\n\u001b[0;32m    244\u001b[0m         \u001b[39massert\u001b[39;00m \u001b[39mFalse\u001b[39;00m, \u001b[39m\"\u001b[39m\u001b[39mShould not reach.\u001b[39m\u001b[39m\"\u001b[39m\n\u001b[0;32m    246\u001b[0m \u001b[39mif\u001b[39;00m (\n\u001b[0;32m    247\u001b[0m     frozen_trial\u001b[39m.\u001b[39mstate \u001b[39m==\u001b[39m TrialState\u001b[39m.\u001b[39mFAIL\n\u001b[0;32m    248\u001b[0m     \u001b[39mand\u001b[39;00m func_err \u001b[39mis\u001b[39;00m \u001b[39mnot\u001b[39;00m \u001b[39mNone\u001b[39;00m\n\u001b[0;32m    249\u001b[0m     \u001b[39mand\u001b[39;00m \u001b[39mnot\u001b[39;00m \u001b[39misinstance\u001b[39m(func_err, catch)\n\u001b[0;32m    250\u001b[0m ):\n\u001b[1;32m--> 251\u001b[0m     \u001b[39mraise\u001b[39;00m func_err\n\u001b[0;32m    252\u001b[0m \u001b[39mreturn\u001b[39;00m frozen_trial\n",
      "File \u001b[1;32m~\\AppData\\Roaming\\Python\\Python39\\site-packages\\optuna\\study\\_optimize.py:200\u001b[0m, in \u001b[0;36m_run_trial\u001b[1;34m(study, func, catch)\u001b[0m\n\u001b[0;32m    198\u001b[0m \u001b[39mwith\u001b[39;00m get_heartbeat_thread(trial\u001b[39m.\u001b[39m_trial_id, study\u001b[39m.\u001b[39m_storage):\n\u001b[0;32m    199\u001b[0m     \u001b[39mtry\u001b[39;00m:\n\u001b[1;32m--> 200\u001b[0m         value_or_values \u001b[39m=\u001b[39m func(trial)\n\u001b[0;32m    201\u001b[0m     \u001b[39mexcept\u001b[39;00m exceptions\u001b[39m.\u001b[39mTrialPruned \u001b[39mas\u001b[39;00m e:\n\u001b[0;32m    202\u001b[0m         \u001b[39m# TODO(mamu): Handle multi-objective cases.\u001b[39;00m\n\u001b[0;32m    203\u001b[0m         state \u001b[39m=\u001b[39m TrialState\u001b[39m.\u001b[39mPRUNED\n",
      "Cell \u001b[1;32mIn[30], line 6\u001b[0m, in \u001b[0;36m<lambda>\u001b[1;34m(trial)\u001b[0m\n\u001b[0;32m      3\u001b[0m study \u001b[39m=\u001b[39m optuna\u001b[39m.\u001b[39mcreate_study(direction\u001b[39m=\u001b[39m\u001b[39m'\u001b[39m\u001b[39mmaximize\u001b[39m\u001b[39m'\u001b[39m, sampler\u001b[39m=\u001b[39mTPESampler())\n\u001b[0;32m      5\u001b[0m \u001b[39m# n_trials 지정해주지 않으면, 무한 반복\u001b[39;00m\n\u001b[1;32m----> 6\u001b[0m study\u001b[39m.\u001b[39moptimize(\u001b[39mlambda\u001b[39;00m trial : objectiveXGB(trial, x_train, y_train, x_val), n_trials \u001b[39m=\u001b[39m \u001b[39m100\u001b[39m) \u001b[39m# 50\u001b[39;00m\n\u001b[0;32m      8\u001b[0m \u001b[39mprint\u001b[39m(\u001b[39m'\u001b[39m\u001b[39mBest trial : score \u001b[39m\u001b[39m{}\u001b[39;00m\u001b[39m, \u001b[39m\u001b[39m\\n\u001b[39;00m\u001b[39mparams \u001b[39m\u001b[39m{}\u001b[39;00m\u001b[39m'\u001b[39m\u001b[39m.\u001b[39mformat(study\u001b[39m.\u001b[39mbest_trial\u001b[39m.\u001b[39mvalue, study\u001b[39m.\u001b[39mbest_trial\u001b[39m.\u001b[39mparams))\n",
      "Cell \u001b[1;32mIn[29], line 21\u001b[0m, in \u001b[0;36mobjectiveXGB\u001b[1;34m(trial, X, y, test)\u001b[0m\n\u001b[0;32m     19\u001b[0m \u001b[39m# 학습 모델 생성\u001b[39;00m\n\u001b[0;32m     20\u001b[0m model \u001b[39m=\u001b[39m XGBClassifier(\u001b[39m*\u001b[39m\u001b[39m*\u001b[39mparam)\n\u001b[1;32m---> 21\u001b[0m xgb_model \u001b[39m=\u001b[39m model\u001b[39m.\u001b[39;49mfit(x_train, y_train, verbose\u001b[39m=\u001b[39;49m\u001b[39mTrue\u001b[39;49;00m) \u001b[39m# 학습 진행\u001b[39;00m\n\u001b[0;32m     23\u001b[0m \u001b[39m# 모델 성능 확인\u001b[39;00m\n\u001b[0;32m     24\u001b[0m \u001b[39m# score = mean_absolute_error(xgb_model.predict(x_val), y_val)\u001b[39;00m\n\u001b[0;32m     25\u001b[0m score \u001b[39m=\u001b[39m f1_score(xgb_model\u001b[39m.\u001b[39mpredict(x_val), y_val, average\u001b[39m=\u001b[39m\u001b[39m'\u001b[39m\u001b[39mmacro\u001b[39m\u001b[39m'\u001b[39m)\n",
      "File \u001b[1;32m~\\AppData\\Roaming\\Python\\Python39\\site-packages\\xgboost\\core.py:620\u001b[0m, in \u001b[0;36mrequire_keyword_args.<locals>.throw_if.<locals>.inner_f\u001b[1;34m(*args, **kwargs)\u001b[0m\n\u001b[0;32m    618\u001b[0m \u001b[39mfor\u001b[39;00m k, arg \u001b[39min\u001b[39;00m \u001b[39mzip\u001b[39m(sig\u001b[39m.\u001b[39mparameters, args):\n\u001b[0;32m    619\u001b[0m     kwargs[k] \u001b[39m=\u001b[39m arg\n\u001b[1;32m--> 620\u001b[0m \u001b[39mreturn\u001b[39;00m func(\u001b[39m*\u001b[39m\u001b[39m*\u001b[39mkwargs)\n",
      "File \u001b[1;32m~\\AppData\\Roaming\\Python\\Python39\\site-packages\\xgboost\\sklearn.py:1490\u001b[0m, in \u001b[0;36mXGBClassifier.fit\u001b[1;34m(self, X, y, sample_weight, base_margin, eval_set, eval_metric, early_stopping_rounds, verbose, xgb_model, sample_weight_eval_set, base_margin_eval_set, feature_weights, callbacks)\u001b[0m\n\u001b[0;32m   1462\u001b[0m (\n\u001b[0;32m   1463\u001b[0m     model,\n\u001b[0;32m   1464\u001b[0m     metric,\n\u001b[1;32m   (...)\u001b[0m\n\u001b[0;32m   1469\u001b[0m     xgb_model, eval_metric, params, early_stopping_rounds, callbacks\n\u001b[0;32m   1470\u001b[0m )\n\u001b[0;32m   1471\u001b[0m train_dmatrix, evals \u001b[39m=\u001b[39m _wrap_evaluation_matrices(\n\u001b[0;32m   1472\u001b[0m     missing\u001b[39m=\u001b[39m\u001b[39mself\u001b[39m\u001b[39m.\u001b[39mmissing,\n\u001b[0;32m   1473\u001b[0m     X\u001b[39m=\u001b[39mX,\n\u001b[1;32m   (...)\u001b[0m\n\u001b[0;32m   1487\u001b[0m     feature_types\u001b[39m=\u001b[39m\u001b[39mself\u001b[39m\u001b[39m.\u001b[39mfeature_types,\n\u001b[0;32m   1488\u001b[0m )\n\u001b[1;32m-> 1490\u001b[0m \u001b[39mself\u001b[39m\u001b[39m.\u001b[39m_Booster \u001b[39m=\u001b[39m train(\n\u001b[0;32m   1491\u001b[0m     params,\n\u001b[0;32m   1492\u001b[0m     train_dmatrix,\n\u001b[0;32m   1493\u001b[0m     \u001b[39mself\u001b[39;49m\u001b[39m.\u001b[39;49mget_num_boosting_rounds(),\n\u001b[0;32m   1494\u001b[0m     evals\u001b[39m=\u001b[39;49mevals,\n\u001b[0;32m   1495\u001b[0m     early_stopping_rounds\u001b[39m=\u001b[39;49mearly_stopping_rounds,\n\u001b[0;32m   1496\u001b[0m     evals_result\u001b[39m=\u001b[39;49mevals_result,\n\u001b[0;32m   1497\u001b[0m     obj\u001b[39m=\u001b[39;49mobj,\n\u001b[0;32m   1498\u001b[0m     custom_metric\u001b[39m=\u001b[39;49mmetric,\n\u001b[0;32m   1499\u001b[0m     verbose_eval\u001b[39m=\u001b[39;49mverbose,\n\u001b[0;32m   1500\u001b[0m     xgb_model\u001b[39m=\u001b[39;49mmodel,\n\u001b[0;32m   1501\u001b[0m     callbacks\u001b[39m=\u001b[39;49mcallbacks,\n\u001b[0;32m   1502\u001b[0m )\n\u001b[0;32m   1504\u001b[0m \u001b[39mif\u001b[39;00m \u001b[39mnot\u001b[39;00m callable(\u001b[39mself\u001b[39m\u001b[39m.\u001b[39mobjective):\n\u001b[0;32m   1505\u001b[0m     \u001b[39mself\u001b[39m\u001b[39m.\u001b[39mobjective \u001b[39m=\u001b[39m params[\u001b[39m\"\u001b[39m\u001b[39mobjective\u001b[39m\u001b[39m\"\u001b[39m]\n",
      "File \u001b[1;32m~\\AppData\\Roaming\\Python\\Python39\\site-packages\\xgboost\\core.py:620\u001b[0m, in \u001b[0;36mrequire_keyword_args.<locals>.throw_if.<locals>.inner_f\u001b[1;34m(*args, **kwargs)\u001b[0m\n\u001b[0;32m    618\u001b[0m \u001b[39mfor\u001b[39;00m k, arg \u001b[39min\u001b[39;00m \u001b[39mzip\u001b[39m(sig\u001b[39m.\u001b[39mparameters, args):\n\u001b[0;32m    619\u001b[0m     kwargs[k] \u001b[39m=\u001b[39m arg\n\u001b[1;32m--> 620\u001b[0m \u001b[39mreturn\u001b[39;00m func(\u001b[39m*\u001b[39m\u001b[39m*\u001b[39mkwargs)\n",
      "File \u001b[1;32m~\\AppData\\Roaming\\Python\\Python39\\site-packages\\xgboost\\training.py:185\u001b[0m, in \u001b[0;36mtrain\u001b[1;34m(params, dtrain, num_boost_round, evals, obj, feval, maximize, early_stopping_rounds, evals_result, verbose_eval, xgb_model, callbacks, custom_metric)\u001b[0m\n\u001b[0;32m    183\u001b[0m \u001b[39mif\u001b[39;00m cb_container\u001b[39m.\u001b[39mbefore_iteration(bst, i, dtrain, evals):\n\u001b[0;32m    184\u001b[0m     \u001b[39mbreak\u001b[39;00m\n\u001b[1;32m--> 185\u001b[0m bst\u001b[39m.\u001b[39;49mupdate(dtrain, i, obj)\n\u001b[0;32m    186\u001b[0m \u001b[39mif\u001b[39;00m cb_container\u001b[39m.\u001b[39mafter_iteration(bst, i, dtrain, evals):\n\u001b[0;32m    187\u001b[0m     \u001b[39mbreak\u001b[39;00m\n",
      "File \u001b[1;32m~\\AppData\\Roaming\\Python\\Python39\\site-packages\\xgboost\\core.py:1918\u001b[0m, in \u001b[0;36mBooster.update\u001b[1;34m(self, dtrain, iteration, fobj)\u001b[0m\n\u001b[0;32m   1915\u001b[0m \u001b[39mself\u001b[39m\u001b[39m.\u001b[39m_validate_dmatrix_features(dtrain)\n\u001b[0;32m   1917\u001b[0m \u001b[39mif\u001b[39;00m fobj \u001b[39mis\u001b[39;00m \u001b[39mNone\u001b[39;00m:\n\u001b[1;32m-> 1918\u001b[0m     _check_call(_LIB\u001b[39m.\u001b[39;49mXGBoosterUpdateOneIter(\u001b[39mself\u001b[39;49m\u001b[39m.\u001b[39;49mhandle,\n\u001b[0;32m   1919\u001b[0m                                             ctypes\u001b[39m.\u001b[39;49mc_int(iteration),\n\u001b[0;32m   1920\u001b[0m                                             dtrain\u001b[39m.\u001b[39;49mhandle))\n\u001b[0;32m   1921\u001b[0m \u001b[39melse\u001b[39;00m:\n\u001b[0;32m   1922\u001b[0m     pred \u001b[39m=\u001b[39m \u001b[39mself\u001b[39m\u001b[39m.\u001b[39mpredict(dtrain, output_margin\u001b[39m=\u001b[39m\u001b[39mTrue\u001b[39;00m, training\u001b[39m=\u001b[39m\u001b[39mTrue\u001b[39;00m)\n",
      "\u001b[1;31mKeyboardInterrupt\u001b[0m: "
     ]
    }
   ],
   "source": [
    "# f1 가 최대가 되는 방향으로 학습을 진행 o\n",
    "# TPESampler : Sampler using TPE (Tree-structured Parzen Estimator) algorithm.\n",
    "study = optuna.create_study(direction='maximize', sampler=TPESampler())\n",
    "\n",
    "# n_trials 지정해주지 않으면, 무한 반복\n",
    "study.optimize(lambda trial : objectiveXGB(trial, x_train, y_train, x_val), n_trials = 100) # 50\n",
    "\n",
    "print('Best trial : score {}, \\nparams {}'.format(study.best_trial.value, study.best_trial.params))\n"
   ]
  },
  {
   "cell_type": "code",
   "execution_count": 31,
   "metadata": {},
   "outputs": [
    {
     "data": {
      "application/vnd.plotly.v1+json": {
       "config": {
        "plotlyServerURL": "https://plot.ly"
       },
       "data": [
        {
         "cliponaxis": false,
         "hovertemplate": [
          "colsample_bytree (FloatDistribution): 0.0010538724111184565<extra></extra>",
          "gamma (IntDistribution): 0.002092755970929829<extra></extra>",
          "lambda (FloatDistribution): 0.0040478176756025466<extra></extra>",
          "n_estimators (IntDistribution): 0.03288541163824619<extra></extra>",
          "alpha (FloatDistribution): 0.04232858412279877<extra></extra>",
          "max_depth (IntDistribution): 0.048162131468761304<extra></extra>",
          "subsample (CategoricalDistribution): 0.053584949195439845<extra></extra>",
          "min_child_weight (IntDistribution): 0.8158444775171029<extra></extra>"
         ],
         "marker": {
          "color": "rgb(66,146,198)"
         },
         "orientation": "h",
         "text": [
          "<0.01",
          "<0.01",
          "<0.01",
          "0.03",
          "0.04",
          "0.05",
          "0.05",
          "0.82"
         ],
         "textposition": "outside",
         "type": "bar",
         "x": [
          0.0010538724111184565,
          0.002092755970929829,
          0.0040478176756025466,
          0.03288541163824619,
          0.04232858412279877,
          0.048162131468761304,
          0.053584949195439845,
          0.8158444775171029
         ],
         "y": [
          "colsample_bytree",
          "gamma",
          "lambda",
          "n_estimators",
          "alpha",
          "max_depth",
          "subsample",
          "min_child_weight"
         ]
        }
       ],
       "layout": {
        "showlegend": false,
        "template": {
         "data": {
          "bar": [
           {
            "error_x": {
             "color": "#2a3f5f"
            },
            "error_y": {
             "color": "#2a3f5f"
            },
            "marker": {
             "line": {
              "color": "#E5ECF6",
              "width": 0.5
             },
             "pattern": {
              "fillmode": "overlay",
              "size": 10,
              "solidity": 0.2
             }
            },
            "type": "bar"
           }
          ],
          "barpolar": [
           {
            "marker": {
             "line": {
              "color": "#E5ECF6",
              "width": 0.5
             },
             "pattern": {
              "fillmode": "overlay",
              "size": 10,
              "solidity": 0.2
             }
            },
            "type": "barpolar"
           }
          ],
          "carpet": [
           {
            "aaxis": {
             "endlinecolor": "#2a3f5f",
             "gridcolor": "white",
             "linecolor": "white",
             "minorgridcolor": "white",
             "startlinecolor": "#2a3f5f"
            },
            "baxis": {
             "endlinecolor": "#2a3f5f",
             "gridcolor": "white",
             "linecolor": "white",
             "minorgridcolor": "white",
             "startlinecolor": "#2a3f5f"
            },
            "type": "carpet"
           }
          ],
          "choropleth": [
           {
            "colorbar": {
             "outlinewidth": 0,
             "ticks": ""
            },
            "type": "choropleth"
           }
          ],
          "contour": [
           {
            "colorbar": {
             "outlinewidth": 0,
             "ticks": ""
            },
            "colorscale": [
             [
              0,
              "#0d0887"
             ],
             [
              0.1111111111111111,
              "#46039f"
             ],
             [
              0.2222222222222222,
              "#7201a8"
             ],
             [
              0.3333333333333333,
              "#9c179e"
             ],
             [
              0.4444444444444444,
              "#bd3786"
             ],
             [
              0.5555555555555556,
              "#d8576b"
             ],
             [
              0.6666666666666666,
              "#ed7953"
             ],
             [
              0.7777777777777778,
              "#fb9f3a"
             ],
             [
              0.8888888888888888,
              "#fdca26"
             ],
             [
              1,
              "#f0f921"
             ]
            ],
            "type": "contour"
           }
          ],
          "contourcarpet": [
           {
            "colorbar": {
             "outlinewidth": 0,
             "ticks": ""
            },
            "type": "contourcarpet"
           }
          ],
          "heatmap": [
           {
            "colorbar": {
             "outlinewidth": 0,
             "ticks": ""
            },
            "colorscale": [
             [
              0,
              "#0d0887"
             ],
             [
              0.1111111111111111,
              "#46039f"
             ],
             [
              0.2222222222222222,
              "#7201a8"
             ],
             [
              0.3333333333333333,
              "#9c179e"
             ],
             [
              0.4444444444444444,
              "#bd3786"
             ],
             [
              0.5555555555555556,
              "#d8576b"
             ],
             [
              0.6666666666666666,
              "#ed7953"
             ],
             [
              0.7777777777777778,
              "#fb9f3a"
             ],
             [
              0.8888888888888888,
              "#fdca26"
             ],
             [
              1,
              "#f0f921"
             ]
            ],
            "type": "heatmap"
           }
          ],
          "heatmapgl": [
           {
            "colorbar": {
             "outlinewidth": 0,
             "ticks": ""
            },
            "colorscale": [
             [
              0,
              "#0d0887"
             ],
             [
              0.1111111111111111,
              "#46039f"
             ],
             [
              0.2222222222222222,
              "#7201a8"
             ],
             [
              0.3333333333333333,
              "#9c179e"
             ],
             [
              0.4444444444444444,
              "#bd3786"
             ],
             [
              0.5555555555555556,
              "#d8576b"
             ],
             [
              0.6666666666666666,
              "#ed7953"
             ],
             [
              0.7777777777777778,
              "#fb9f3a"
             ],
             [
              0.8888888888888888,
              "#fdca26"
             ],
             [
              1,
              "#f0f921"
             ]
            ],
            "type": "heatmapgl"
           }
          ],
          "histogram": [
           {
            "marker": {
             "pattern": {
              "fillmode": "overlay",
              "size": 10,
              "solidity": 0.2
             }
            },
            "type": "histogram"
           }
          ],
          "histogram2d": [
           {
            "colorbar": {
             "outlinewidth": 0,
             "ticks": ""
            },
            "colorscale": [
             [
              0,
              "#0d0887"
             ],
             [
              0.1111111111111111,
              "#46039f"
             ],
             [
              0.2222222222222222,
              "#7201a8"
             ],
             [
              0.3333333333333333,
              "#9c179e"
             ],
             [
              0.4444444444444444,
              "#bd3786"
             ],
             [
              0.5555555555555556,
              "#d8576b"
             ],
             [
              0.6666666666666666,
              "#ed7953"
             ],
             [
              0.7777777777777778,
              "#fb9f3a"
             ],
             [
              0.8888888888888888,
              "#fdca26"
             ],
             [
              1,
              "#f0f921"
             ]
            ],
            "type": "histogram2d"
           }
          ],
          "histogram2dcontour": [
           {
            "colorbar": {
             "outlinewidth": 0,
             "ticks": ""
            },
            "colorscale": [
             [
              0,
              "#0d0887"
             ],
             [
              0.1111111111111111,
              "#46039f"
             ],
             [
              0.2222222222222222,
              "#7201a8"
             ],
             [
              0.3333333333333333,
              "#9c179e"
             ],
             [
              0.4444444444444444,
              "#bd3786"
             ],
             [
              0.5555555555555556,
              "#d8576b"
             ],
             [
              0.6666666666666666,
              "#ed7953"
             ],
             [
              0.7777777777777778,
              "#fb9f3a"
             ],
             [
              0.8888888888888888,
              "#fdca26"
             ],
             [
              1,
              "#f0f921"
             ]
            ],
            "type": "histogram2dcontour"
           }
          ],
          "mesh3d": [
           {
            "colorbar": {
             "outlinewidth": 0,
             "ticks": ""
            },
            "type": "mesh3d"
           }
          ],
          "parcoords": [
           {
            "line": {
             "colorbar": {
              "outlinewidth": 0,
              "ticks": ""
             }
            },
            "type": "parcoords"
           }
          ],
          "pie": [
           {
            "automargin": true,
            "type": "pie"
           }
          ],
          "scatter": [
           {
            "marker": {
             "colorbar": {
              "outlinewidth": 0,
              "ticks": ""
             }
            },
            "type": "scatter"
           }
          ],
          "scatter3d": [
           {
            "line": {
             "colorbar": {
              "outlinewidth": 0,
              "ticks": ""
             }
            },
            "marker": {
             "colorbar": {
              "outlinewidth": 0,
              "ticks": ""
             }
            },
            "type": "scatter3d"
           }
          ],
          "scattercarpet": [
           {
            "marker": {
             "colorbar": {
              "outlinewidth": 0,
              "ticks": ""
             }
            },
            "type": "scattercarpet"
           }
          ],
          "scattergeo": [
           {
            "marker": {
             "colorbar": {
              "outlinewidth": 0,
              "ticks": ""
             }
            },
            "type": "scattergeo"
           }
          ],
          "scattergl": [
           {
            "marker": {
             "colorbar": {
              "outlinewidth": 0,
              "ticks": ""
             }
            },
            "type": "scattergl"
           }
          ],
          "scattermapbox": [
           {
            "marker": {
             "colorbar": {
              "outlinewidth": 0,
              "ticks": ""
             }
            },
            "type": "scattermapbox"
           }
          ],
          "scatterpolar": [
           {
            "marker": {
             "colorbar": {
              "outlinewidth": 0,
              "ticks": ""
             }
            },
            "type": "scatterpolar"
           }
          ],
          "scatterpolargl": [
           {
            "marker": {
             "colorbar": {
              "outlinewidth": 0,
              "ticks": ""
             }
            },
            "type": "scatterpolargl"
           }
          ],
          "scatterternary": [
           {
            "marker": {
             "colorbar": {
              "outlinewidth": 0,
              "ticks": ""
             }
            },
            "type": "scatterternary"
           }
          ],
          "surface": [
           {
            "colorbar": {
             "outlinewidth": 0,
             "ticks": ""
            },
            "colorscale": [
             [
              0,
              "#0d0887"
             ],
             [
              0.1111111111111111,
              "#46039f"
             ],
             [
              0.2222222222222222,
              "#7201a8"
             ],
             [
              0.3333333333333333,
              "#9c179e"
             ],
             [
              0.4444444444444444,
              "#bd3786"
             ],
             [
              0.5555555555555556,
              "#d8576b"
             ],
             [
              0.6666666666666666,
              "#ed7953"
             ],
             [
              0.7777777777777778,
              "#fb9f3a"
             ],
             [
              0.8888888888888888,
              "#fdca26"
             ],
             [
              1,
              "#f0f921"
             ]
            ],
            "type": "surface"
           }
          ],
          "table": [
           {
            "cells": {
             "fill": {
              "color": "#EBF0F8"
             },
             "line": {
              "color": "white"
             }
            },
            "header": {
             "fill": {
              "color": "#C8D4E3"
             },
             "line": {
              "color": "white"
             }
            },
            "type": "table"
           }
          ]
         },
         "layout": {
          "annotationdefaults": {
           "arrowcolor": "#2a3f5f",
           "arrowhead": 0,
           "arrowwidth": 1
          },
          "autotypenumbers": "strict",
          "coloraxis": {
           "colorbar": {
            "outlinewidth": 0,
            "ticks": ""
           }
          },
          "colorscale": {
           "diverging": [
            [
             0,
             "#8e0152"
            ],
            [
             0.1,
             "#c51b7d"
            ],
            [
             0.2,
             "#de77ae"
            ],
            [
             0.3,
             "#f1b6da"
            ],
            [
             0.4,
             "#fde0ef"
            ],
            [
             0.5,
             "#f7f7f7"
            ],
            [
             0.6,
             "#e6f5d0"
            ],
            [
             0.7,
             "#b8e186"
            ],
            [
             0.8,
             "#7fbc41"
            ],
            [
             0.9,
             "#4d9221"
            ],
            [
             1,
             "#276419"
            ]
           ],
           "sequential": [
            [
             0,
             "#0d0887"
            ],
            [
             0.1111111111111111,
             "#46039f"
            ],
            [
             0.2222222222222222,
             "#7201a8"
            ],
            [
             0.3333333333333333,
             "#9c179e"
            ],
            [
             0.4444444444444444,
             "#bd3786"
            ],
            [
             0.5555555555555556,
             "#d8576b"
            ],
            [
             0.6666666666666666,
             "#ed7953"
            ],
            [
             0.7777777777777778,
             "#fb9f3a"
            ],
            [
             0.8888888888888888,
             "#fdca26"
            ],
            [
             1,
             "#f0f921"
            ]
           ],
           "sequentialminus": [
            [
             0,
             "#0d0887"
            ],
            [
             0.1111111111111111,
             "#46039f"
            ],
            [
             0.2222222222222222,
             "#7201a8"
            ],
            [
             0.3333333333333333,
             "#9c179e"
            ],
            [
             0.4444444444444444,
             "#bd3786"
            ],
            [
             0.5555555555555556,
             "#d8576b"
            ],
            [
             0.6666666666666666,
             "#ed7953"
            ],
            [
             0.7777777777777778,
             "#fb9f3a"
            ],
            [
             0.8888888888888888,
             "#fdca26"
            ],
            [
             1,
             "#f0f921"
            ]
           ]
          },
          "colorway": [
           "#636efa",
           "#EF553B",
           "#00cc96",
           "#ab63fa",
           "#FFA15A",
           "#19d3f3",
           "#FF6692",
           "#B6E880",
           "#FF97FF",
           "#FECB52"
          ],
          "font": {
           "color": "#2a3f5f"
          },
          "geo": {
           "bgcolor": "white",
           "lakecolor": "white",
           "landcolor": "#E5ECF6",
           "showlakes": true,
           "showland": true,
           "subunitcolor": "white"
          },
          "hoverlabel": {
           "align": "left"
          },
          "hovermode": "closest",
          "mapbox": {
           "style": "light"
          },
          "paper_bgcolor": "white",
          "plot_bgcolor": "#E5ECF6",
          "polar": {
           "angularaxis": {
            "gridcolor": "white",
            "linecolor": "white",
            "ticks": ""
           },
           "bgcolor": "#E5ECF6",
           "radialaxis": {
            "gridcolor": "white",
            "linecolor": "white",
            "ticks": ""
           }
          },
          "scene": {
           "xaxis": {
            "backgroundcolor": "#E5ECF6",
            "gridcolor": "white",
            "gridwidth": 2,
            "linecolor": "white",
            "showbackground": true,
            "ticks": "",
            "zerolinecolor": "white"
           },
           "yaxis": {
            "backgroundcolor": "#E5ECF6",
            "gridcolor": "white",
            "gridwidth": 2,
            "linecolor": "white",
            "showbackground": true,
            "ticks": "",
            "zerolinecolor": "white"
           },
           "zaxis": {
            "backgroundcolor": "#E5ECF6",
            "gridcolor": "white",
            "gridwidth": 2,
            "linecolor": "white",
            "showbackground": true,
            "ticks": "",
            "zerolinecolor": "white"
           }
          },
          "shapedefaults": {
           "line": {
            "color": "#2a3f5f"
           }
          },
          "ternary": {
           "aaxis": {
            "gridcolor": "white",
            "linecolor": "white",
            "ticks": ""
           },
           "baxis": {
            "gridcolor": "white",
            "linecolor": "white",
            "ticks": ""
           },
           "bgcolor": "#E5ECF6",
           "caxis": {
            "gridcolor": "white",
            "linecolor": "white",
            "ticks": ""
           }
          },
          "title": {
           "x": 0.05
          },
          "xaxis": {
           "automargin": true,
           "gridcolor": "white",
           "linecolor": "white",
           "ticks": "",
           "title": {
            "standoff": 15
           },
           "zerolinecolor": "white",
           "zerolinewidth": 2
          },
          "yaxis": {
           "automargin": true,
           "gridcolor": "white",
           "linecolor": "white",
           "ticks": "",
           "title": {
            "standoff": 15
           },
           "zerolinecolor": "white",
           "zerolinewidth": 2
          }
         }
        },
        "title": {
         "text": "Hyperparameter Importances"
        },
        "xaxis": {
         "title": {
          "text": "Importance for Objective Value"
         }
        },
        "yaxis": {
         "title": {
          "text": "Hyperparameter"
         }
        }
       }
      }
     },
     "metadata": {},
     "output_type": "display_data"
    }
   ],
   "source": [
    "optuna.visualization.plot_param_importances(study) # 파라미터 중요도 확인 그래프"
   ]
  },
  {
   "cell_type": "code",
   "execution_count": 32,
   "metadata": {},
   "outputs": [
    {
     "data": {
      "application/vnd.plotly.v1+json": {
       "config": {
        "plotlyServerURL": "https://plot.ly"
       },
       "data": [
        {
         "mode": "markers",
         "name": "Objective Value",
         "type": "scatter",
         "x": [
          0,
          1,
          2,
          3,
          4,
          5,
          6,
          7,
          8,
          9,
          10,
          11,
          12,
          13,
          14,
          15,
          16
         ],
         "y": [
          0.5937453412649017,
          0.6511054869852064,
          0.6014706995807284,
          0.6516298321476647,
          0.5869589959867086,
          0.6073022567778832,
          0.6054390673537652,
          0.6081648933848516,
          0.6185410173725093,
          0.6123965990963617,
          0.6463302535419139,
          0.6471385261612451,
          0.6189545104251402,
          0.6508403453582694,
          0.6463506035030573,
          0.6471776586500382,
          0.6192402448886258
         ]
        },
        {
         "name": "Best Value",
         "type": "scatter",
         "x": [
          0,
          1,
          2,
          3,
          4,
          5,
          6,
          7,
          8,
          9,
          10,
          11,
          12,
          13,
          14,
          15,
          16
         ],
         "y": [
          0.5937453412649017,
          0.6511054869852064,
          0.6511054869852064,
          0.6516298321476647,
          0.6516298321476647,
          0.6516298321476647,
          0.6516298321476647,
          0.6516298321476647,
          0.6516298321476647,
          0.6516298321476647,
          0.6516298321476647,
          0.6516298321476647,
          0.6516298321476647,
          0.6516298321476647,
          0.6516298321476647,
          0.6516298321476647,
          0.6516298321476647
         ]
        }
       ],
       "layout": {
        "template": {
         "data": {
          "bar": [
           {
            "error_x": {
             "color": "#2a3f5f"
            },
            "error_y": {
             "color": "#2a3f5f"
            },
            "marker": {
             "line": {
              "color": "#E5ECF6",
              "width": 0.5
             },
             "pattern": {
              "fillmode": "overlay",
              "size": 10,
              "solidity": 0.2
             }
            },
            "type": "bar"
           }
          ],
          "barpolar": [
           {
            "marker": {
             "line": {
              "color": "#E5ECF6",
              "width": 0.5
             },
             "pattern": {
              "fillmode": "overlay",
              "size": 10,
              "solidity": 0.2
             }
            },
            "type": "barpolar"
           }
          ],
          "carpet": [
           {
            "aaxis": {
             "endlinecolor": "#2a3f5f",
             "gridcolor": "white",
             "linecolor": "white",
             "minorgridcolor": "white",
             "startlinecolor": "#2a3f5f"
            },
            "baxis": {
             "endlinecolor": "#2a3f5f",
             "gridcolor": "white",
             "linecolor": "white",
             "minorgridcolor": "white",
             "startlinecolor": "#2a3f5f"
            },
            "type": "carpet"
           }
          ],
          "choropleth": [
           {
            "colorbar": {
             "outlinewidth": 0,
             "ticks": ""
            },
            "type": "choropleth"
           }
          ],
          "contour": [
           {
            "colorbar": {
             "outlinewidth": 0,
             "ticks": ""
            },
            "colorscale": [
             [
              0,
              "#0d0887"
             ],
             [
              0.1111111111111111,
              "#46039f"
             ],
             [
              0.2222222222222222,
              "#7201a8"
             ],
             [
              0.3333333333333333,
              "#9c179e"
             ],
             [
              0.4444444444444444,
              "#bd3786"
             ],
             [
              0.5555555555555556,
              "#d8576b"
             ],
             [
              0.6666666666666666,
              "#ed7953"
             ],
             [
              0.7777777777777778,
              "#fb9f3a"
             ],
             [
              0.8888888888888888,
              "#fdca26"
             ],
             [
              1,
              "#f0f921"
             ]
            ],
            "type": "contour"
           }
          ],
          "contourcarpet": [
           {
            "colorbar": {
             "outlinewidth": 0,
             "ticks": ""
            },
            "type": "contourcarpet"
           }
          ],
          "heatmap": [
           {
            "colorbar": {
             "outlinewidth": 0,
             "ticks": ""
            },
            "colorscale": [
             [
              0,
              "#0d0887"
             ],
             [
              0.1111111111111111,
              "#46039f"
             ],
             [
              0.2222222222222222,
              "#7201a8"
             ],
             [
              0.3333333333333333,
              "#9c179e"
             ],
             [
              0.4444444444444444,
              "#bd3786"
             ],
             [
              0.5555555555555556,
              "#d8576b"
             ],
             [
              0.6666666666666666,
              "#ed7953"
             ],
             [
              0.7777777777777778,
              "#fb9f3a"
             ],
             [
              0.8888888888888888,
              "#fdca26"
             ],
             [
              1,
              "#f0f921"
             ]
            ],
            "type": "heatmap"
           }
          ],
          "heatmapgl": [
           {
            "colorbar": {
             "outlinewidth": 0,
             "ticks": ""
            },
            "colorscale": [
             [
              0,
              "#0d0887"
             ],
             [
              0.1111111111111111,
              "#46039f"
             ],
             [
              0.2222222222222222,
              "#7201a8"
             ],
             [
              0.3333333333333333,
              "#9c179e"
             ],
             [
              0.4444444444444444,
              "#bd3786"
             ],
             [
              0.5555555555555556,
              "#d8576b"
             ],
             [
              0.6666666666666666,
              "#ed7953"
             ],
             [
              0.7777777777777778,
              "#fb9f3a"
             ],
             [
              0.8888888888888888,
              "#fdca26"
             ],
             [
              1,
              "#f0f921"
             ]
            ],
            "type": "heatmapgl"
           }
          ],
          "histogram": [
           {
            "marker": {
             "pattern": {
              "fillmode": "overlay",
              "size": 10,
              "solidity": 0.2
             }
            },
            "type": "histogram"
           }
          ],
          "histogram2d": [
           {
            "colorbar": {
             "outlinewidth": 0,
             "ticks": ""
            },
            "colorscale": [
             [
              0,
              "#0d0887"
             ],
             [
              0.1111111111111111,
              "#46039f"
             ],
             [
              0.2222222222222222,
              "#7201a8"
             ],
             [
              0.3333333333333333,
              "#9c179e"
             ],
             [
              0.4444444444444444,
              "#bd3786"
             ],
             [
              0.5555555555555556,
              "#d8576b"
             ],
             [
              0.6666666666666666,
              "#ed7953"
             ],
             [
              0.7777777777777778,
              "#fb9f3a"
             ],
             [
              0.8888888888888888,
              "#fdca26"
             ],
             [
              1,
              "#f0f921"
             ]
            ],
            "type": "histogram2d"
           }
          ],
          "histogram2dcontour": [
           {
            "colorbar": {
             "outlinewidth": 0,
             "ticks": ""
            },
            "colorscale": [
             [
              0,
              "#0d0887"
             ],
             [
              0.1111111111111111,
              "#46039f"
             ],
             [
              0.2222222222222222,
              "#7201a8"
             ],
             [
              0.3333333333333333,
              "#9c179e"
             ],
             [
              0.4444444444444444,
              "#bd3786"
             ],
             [
              0.5555555555555556,
              "#d8576b"
             ],
             [
              0.6666666666666666,
              "#ed7953"
             ],
             [
              0.7777777777777778,
              "#fb9f3a"
             ],
             [
              0.8888888888888888,
              "#fdca26"
             ],
             [
              1,
              "#f0f921"
             ]
            ],
            "type": "histogram2dcontour"
           }
          ],
          "mesh3d": [
           {
            "colorbar": {
             "outlinewidth": 0,
             "ticks": ""
            },
            "type": "mesh3d"
           }
          ],
          "parcoords": [
           {
            "line": {
             "colorbar": {
              "outlinewidth": 0,
              "ticks": ""
             }
            },
            "type": "parcoords"
           }
          ],
          "pie": [
           {
            "automargin": true,
            "type": "pie"
           }
          ],
          "scatter": [
           {
            "marker": {
             "colorbar": {
              "outlinewidth": 0,
              "ticks": ""
             }
            },
            "type": "scatter"
           }
          ],
          "scatter3d": [
           {
            "line": {
             "colorbar": {
              "outlinewidth": 0,
              "ticks": ""
             }
            },
            "marker": {
             "colorbar": {
              "outlinewidth": 0,
              "ticks": ""
             }
            },
            "type": "scatter3d"
           }
          ],
          "scattercarpet": [
           {
            "marker": {
             "colorbar": {
              "outlinewidth": 0,
              "ticks": ""
             }
            },
            "type": "scattercarpet"
           }
          ],
          "scattergeo": [
           {
            "marker": {
             "colorbar": {
              "outlinewidth": 0,
              "ticks": ""
             }
            },
            "type": "scattergeo"
           }
          ],
          "scattergl": [
           {
            "marker": {
             "colorbar": {
              "outlinewidth": 0,
              "ticks": ""
             }
            },
            "type": "scattergl"
           }
          ],
          "scattermapbox": [
           {
            "marker": {
             "colorbar": {
              "outlinewidth": 0,
              "ticks": ""
             }
            },
            "type": "scattermapbox"
           }
          ],
          "scatterpolar": [
           {
            "marker": {
             "colorbar": {
              "outlinewidth": 0,
              "ticks": ""
             }
            },
            "type": "scatterpolar"
           }
          ],
          "scatterpolargl": [
           {
            "marker": {
             "colorbar": {
              "outlinewidth": 0,
              "ticks": ""
             }
            },
            "type": "scatterpolargl"
           }
          ],
          "scatterternary": [
           {
            "marker": {
             "colorbar": {
              "outlinewidth": 0,
              "ticks": ""
             }
            },
            "type": "scatterternary"
           }
          ],
          "surface": [
           {
            "colorbar": {
             "outlinewidth": 0,
             "ticks": ""
            },
            "colorscale": [
             [
              0,
              "#0d0887"
             ],
             [
              0.1111111111111111,
              "#46039f"
             ],
             [
              0.2222222222222222,
              "#7201a8"
             ],
             [
              0.3333333333333333,
              "#9c179e"
             ],
             [
              0.4444444444444444,
              "#bd3786"
             ],
             [
              0.5555555555555556,
              "#d8576b"
             ],
             [
              0.6666666666666666,
              "#ed7953"
             ],
             [
              0.7777777777777778,
              "#fb9f3a"
             ],
             [
              0.8888888888888888,
              "#fdca26"
             ],
             [
              1,
              "#f0f921"
             ]
            ],
            "type": "surface"
           }
          ],
          "table": [
           {
            "cells": {
             "fill": {
              "color": "#EBF0F8"
             },
             "line": {
              "color": "white"
             }
            },
            "header": {
             "fill": {
              "color": "#C8D4E3"
             },
             "line": {
              "color": "white"
             }
            },
            "type": "table"
           }
          ]
         },
         "layout": {
          "annotationdefaults": {
           "arrowcolor": "#2a3f5f",
           "arrowhead": 0,
           "arrowwidth": 1
          },
          "autotypenumbers": "strict",
          "coloraxis": {
           "colorbar": {
            "outlinewidth": 0,
            "ticks": ""
           }
          },
          "colorscale": {
           "diverging": [
            [
             0,
             "#8e0152"
            ],
            [
             0.1,
             "#c51b7d"
            ],
            [
             0.2,
             "#de77ae"
            ],
            [
             0.3,
             "#f1b6da"
            ],
            [
             0.4,
             "#fde0ef"
            ],
            [
             0.5,
             "#f7f7f7"
            ],
            [
             0.6,
             "#e6f5d0"
            ],
            [
             0.7,
             "#b8e186"
            ],
            [
             0.8,
             "#7fbc41"
            ],
            [
             0.9,
             "#4d9221"
            ],
            [
             1,
             "#276419"
            ]
           ],
           "sequential": [
            [
             0,
             "#0d0887"
            ],
            [
             0.1111111111111111,
             "#46039f"
            ],
            [
             0.2222222222222222,
             "#7201a8"
            ],
            [
             0.3333333333333333,
             "#9c179e"
            ],
            [
             0.4444444444444444,
             "#bd3786"
            ],
            [
             0.5555555555555556,
             "#d8576b"
            ],
            [
             0.6666666666666666,
             "#ed7953"
            ],
            [
             0.7777777777777778,
             "#fb9f3a"
            ],
            [
             0.8888888888888888,
             "#fdca26"
            ],
            [
             1,
             "#f0f921"
            ]
           ],
           "sequentialminus": [
            [
             0,
             "#0d0887"
            ],
            [
             0.1111111111111111,
             "#46039f"
            ],
            [
             0.2222222222222222,
             "#7201a8"
            ],
            [
             0.3333333333333333,
             "#9c179e"
            ],
            [
             0.4444444444444444,
             "#bd3786"
            ],
            [
             0.5555555555555556,
             "#d8576b"
            ],
            [
             0.6666666666666666,
             "#ed7953"
            ],
            [
             0.7777777777777778,
             "#fb9f3a"
            ],
            [
             0.8888888888888888,
             "#fdca26"
            ],
            [
             1,
             "#f0f921"
            ]
           ]
          },
          "colorway": [
           "#636efa",
           "#EF553B",
           "#00cc96",
           "#ab63fa",
           "#FFA15A",
           "#19d3f3",
           "#FF6692",
           "#B6E880",
           "#FF97FF",
           "#FECB52"
          ],
          "font": {
           "color": "#2a3f5f"
          },
          "geo": {
           "bgcolor": "white",
           "lakecolor": "white",
           "landcolor": "#E5ECF6",
           "showlakes": true,
           "showland": true,
           "subunitcolor": "white"
          },
          "hoverlabel": {
           "align": "left"
          },
          "hovermode": "closest",
          "mapbox": {
           "style": "light"
          },
          "paper_bgcolor": "white",
          "plot_bgcolor": "#E5ECF6",
          "polar": {
           "angularaxis": {
            "gridcolor": "white",
            "linecolor": "white",
            "ticks": ""
           },
           "bgcolor": "#E5ECF6",
           "radialaxis": {
            "gridcolor": "white",
            "linecolor": "white",
            "ticks": ""
           }
          },
          "scene": {
           "xaxis": {
            "backgroundcolor": "#E5ECF6",
            "gridcolor": "white",
            "gridwidth": 2,
            "linecolor": "white",
            "showbackground": true,
            "ticks": "",
            "zerolinecolor": "white"
           },
           "yaxis": {
            "backgroundcolor": "#E5ECF6",
            "gridcolor": "white",
            "gridwidth": 2,
            "linecolor": "white",
            "showbackground": true,
            "ticks": "",
            "zerolinecolor": "white"
           },
           "zaxis": {
            "backgroundcolor": "#E5ECF6",
            "gridcolor": "white",
            "gridwidth": 2,
            "linecolor": "white",
            "showbackground": true,
            "ticks": "",
            "zerolinecolor": "white"
           }
          },
          "shapedefaults": {
           "line": {
            "color": "#2a3f5f"
           }
          },
          "ternary": {
           "aaxis": {
            "gridcolor": "white",
            "linecolor": "white",
            "ticks": ""
           },
           "baxis": {
            "gridcolor": "white",
            "linecolor": "white",
            "ticks": ""
           },
           "bgcolor": "#E5ECF6",
           "caxis": {
            "gridcolor": "white",
            "linecolor": "white",
            "ticks": ""
           }
          },
          "title": {
           "x": 0.05
          },
          "xaxis": {
           "automargin": true,
           "gridcolor": "white",
           "linecolor": "white",
           "ticks": "",
           "title": {
            "standoff": 15
           },
           "zerolinecolor": "white",
           "zerolinewidth": 2
          },
          "yaxis": {
           "automargin": true,
           "gridcolor": "white",
           "linecolor": "white",
           "ticks": "",
           "title": {
            "standoff": 15
           },
           "zerolinecolor": "white",
           "zerolinewidth": 2
          }
         }
        },
        "title": {
         "text": "Optimization History Plot"
        },
        "xaxis": {
         "title": {
          "text": "Trial"
         }
        },
        "yaxis": {
         "title": {
          "text": "Objective Value"
         }
        }
       }
      }
     },
     "metadata": {},
     "output_type": "display_data"
    }
   ],
   "source": [
    "optuna.visualization.plot_optimization_history(study) # 최적화 과정 시각화"
   ]
  },
  {
   "cell_type": "code",
   "execution_count": 33,
   "metadata": {},
   "outputs": [
    {
     "data": {
      "text/html": [
       "<style>#sk-container-id-1 {color: black;background-color: white;}#sk-container-id-1 pre{padding: 0;}#sk-container-id-1 div.sk-toggleable {background-color: white;}#sk-container-id-1 label.sk-toggleable__label {cursor: pointer;display: block;width: 100%;margin-bottom: 0;padding: 0.3em;box-sizing: border-box;text-align: center;}#sk-container-id-1 label.sk-toggleable__label-arrow:before {content: \"▸\";float: left;margin-right: 0.25em;color: #696969;}#sk-container-id-1 label.sk-toggleable__label-arrow:hover:before {color: black;}#sk-container-id-1 div.sk-estimator:hover label.sk-toggleable__label-arrow:before {color: black;}#sk-container-id-1 div.sk-toggleable__content {max-height: 0;max-width: 0;overflow: hidden;text-align: left;background-color: #f0f8ff;}#sk-container-id-1 div.sk-toggleable__content pre {margin: 0.2em;color: black;border-radius: 0.25em;background-color: #f0f8ff;}#sk-container-id-1 input.sk-toggleable__control:checked~div.sk-toggleable__content {max-height: 200px;max-width: 100%;overflow: auto;}#sk-container-id-1 input.sk-toggleable__control:checked~label.sk-toggleable__label-arrow:before {content: \"▾\";}#sk-container-id-1 div.sk-estimator input.sk-toggleable__control:checked~label.sk-toggleable__label {background-color: #d4ebff;}#sk-container-id-1 div.sk-label input.sk-toggleable__control:checked~label.sk-toggleable__label {background-color: #d4ebff;}#sk-container-id-1 input.sk-hidden--visually {border: 0;clip: rect(1px 1px 1px 1px);clip: rect(1px, 1px, 1px, 1px);height: 1px;margin: -1px;overflow: hidden;padding: 0;position: absolute;width: 1px;}#sk-container-id-1 div.sk-estimator {font-family: monospace;background-color: #f0f8ff;border: 1px dotted black;border-radius: 0.25em;box-sizing: border-box;margin-bottom: 0.5em;}#sk-container-id-1 div.sk-estimator:hover {background-color: #d4ebff;}#sk-container-id-1 div.sk-parallel-item::after {content: \"\";width: 100%;border-bottom: 1px solid gray;flex-grow: 1;}#sk-container-id-1 div.sk-label:hover label.sk-toggleable__label {background-color: #d4ebff;}#sk-container-id-1 div.sk-serial::before {content: \"\";position: absolute;border-left: 1px solid gray;box-sizing: border-box;top: 0;bottom: 0;left: 50%;z-index: 0;}#sk-container-id-1 div.sk-serial {display: flex;flex-direction: column;align-items: center;background-color: white;padding-right: 0.2em;padding-left: 0.2em;position: relative;}#sk-container-id-1 div.sk-item {position: relative;z-index: 1;}#sk-container-id-1 div.sk-parallel {display: flex;align-items: stretch;justify-content: center;background-color: white;position: relative;}#sk-container-id-1 div.sk-item::before, #sk-container-id-1 div.sk-parallel-item::before {content: \"\";position: absolute;border-left: 1px solid gray;box-sizing: border-box;top: 0;bottom: 0;left: 50%;z-index: -1;}#sk-container-id-1 div.sk-parallel-item {display: flex;flex-direction: column;z-index: 1;position: relative;background-color: white;}#sk-container-id-1 div.sk-parallel-item:first-child::after {align-self: flex-end;width: 50%;}#sk-container-id-1 div.sk-parallel-item:last-child::after {align-self: flex-start;width: 50%;}#sk-container-id-1 div.sk-parallel-item:only-child::after {width: 0;}#sk-container-id-1 div.sk-dashed-wrapped {border: 1px dashed gray;margin: 0 0.4em 0.5em 0.4em;box-sizing: border-box;padding-bottom: 0.4em;background-color: white;}#sk-container-id-1 div.sk-label label {font-family: monospace;font-weight: bold;display: inline-block;line-height: 1.2em;}#sk-container-id-1 div.sk-label-container {text-align: center;}#sk-container-id-1 div.sk-container {/* jupyter's `normalize.less` sets `[hidden] { display: none; }` but bootstrap.min.css set `[hidden] { display: none !important; }` so we also need the `!important` here to be able to override the default hidden behavior on the sphinx rendered scikit-learn.org. See: https://github.com/scikit-learn/scikit-learn/issues/21755 */display: inline-block !important;position: relative;}#sk-container-id-1 div.sk-text-repr-fallback {display: none;}</style><div id=\"sk-container-id-1\" class=\"sk-top-container\"><div class=\"sk-text-repr-fallback\"><pre>XGBClassifier(alpha=0.001498788390751351, base_score=None, booster=None,\n",
       "              callbacks=None, colsample_bylevel=None, colsample_bynode=None,\n",
       "              colsample_bytree=0.9, early_stopping_rounds=None,\n",
       "              enable_categorical=False, eval_metric=None, feature_types=None,\n",
       "              gamma=1, gpu_id=None, grow_policy=None, importance_type=None,\n",
       "              interaction_constraints=None, lambda=9.713572700385038,\n",
       "              learning_rate=None, max_bin=None, max_cat_threshold=None,\n",
       "              max_cat_to_onehot=None, max_delta_step=None, max_depth=9,\n",
       "              max_leaves=None, min_child_weight=60, missing=nan,\n",
       "              monotone_constraints=None, n_estimators=1795, n_jobs=None,\n",
       "              num_parallel_tree=None, ...)</pre><b>In a Jupyter environment, please rerun this cell to show the HTML representation or trust the notebook. <br />On GitHub, the HTML representation is unable to render, please try loading this page with nbviewer.org.</b></div><div class=\"sk-container\" hidden><div class=\"sk-item\"><div class=\"sk-estimator sk-toggleable\"><input class=\"sk-toggleable__control sk-hidden--visually\" id=\"sk-estimator-id-1\" type=\"checkbox\" checked><label for=\"sk-estimator-id-1\" class=\"sk-toggleable__label sk-toggleable__label-arrow\">XGBClassifier</label><div class=\"sk-toggleable__content\"><pre>XGBClassifier(alpha=0.001498788390751351, base_score=None, booster=None,\n",
       "              callbacks=None, colsample_bylevel=None, colsample_bynode=None,\n",
       "              colsample_bytree=0.9, early_stopping_rounds=None,\n",
       "              enable_categorical=False, eval_metric=None, feature_types=None,\n",
       "              gamma=1, gpu_id=None, grow_policy=None, importance_type=None,\n",
       "              interaction_constraints=None, lambda=9.713572700385038,\n",
       "              learning_rate=None, max_bin=None, max_cat_threshold=None,\n",
       "              max_cat_to_onehot=None, max_delta_step=None, max_depth=9,\n",
       "              max_leaves=None, min_child_weight=60, missing=nan,\n",
       "              monotone_constraints=None, n_estimators=1795, n_jobs=None,\n",
       "              num_parallel_tree=None, ...)</pre></div></div></div></div></div>"
      ],
      "text/plain": [
       "XGBClassifier(alpha=0.001498788390751351, base_score=None, booster=None,\n",
       "              callbacks=None, colsample_bylevel=None, colsample_bynode=None,\n",
       "              colsample_bytree=0.9, early_stopping_rounds=None,\n",
       "              enable_categorical=False, eval_metric=None, feature_types=None,\n",
       "              gamma=1, gpu_id=None, grow_policy=None, importance_type=None,\n",
       "              interaction_constraints=None, lambda=9.713572700385038,\n",
       "              learning_rate=None, max_bin=None, max_cat_threshold=None,\n",
       "              max_cat_to_onehot=None, max_delta_step=None, max_depth=9,\n",
       "              max_leaves=None, min_child_weight=60, missing=nan,\n",
       "              monotone_constraints=None, n_estimators=1795, n_jobs=None,\n",
       "              num_parallel_tree=None, ...)"
      ]
     },
     "execution_count": 33,
     "metadata": {},
     "output_type": "execute_result"
    }
   ],
   "source": [
    "model = XGBClassifier(**study.best_trial.params)\n",
    "model.fit(x_train, y_train)"
   ]
  },
  {
   "cell_type": "code",
   "execution_count": 34,
   "metadata": {},
   "outputs": [
    {
     "name": "stdout",
     "output_type": "stream",
     "text": [
      "score: 0.62915573755111\n"
     ]
    }
   ],
   "source": [
    "y_val_pred = model.predict(x_val)\n",
    "print('score:' , f1_score(y_val, y_val_pred, average='macro'))"
   ]
  },
  {
   "cell_type": "code",
   "execution_count": null,
   "metadata": {},
   "outputs": [],
   "source": []
  },
  {
   "cell_type": "code",
   "execution_count": null,
   "metadata": {},
   "outputs": [],
   "source": []
  },
  {
   "attachments": {},
   "cell_type": "markdown",
   "metadata": {},
   "source": [
    "제출용"
   ]
  },
  {
   "cell_type": "code",
   "execution_count": 35,
   "metadata": {},
   "outputs": [
    {
     "data": {
      "text/html": [
       "<style>#sk-container-id-2 {color: black;background-color: white;}#sk-container-id-2 pre{padding: 0;}#sk-container-id-2 div.sk-toggleable {background-color: white;}#sk-container-id-2 label.sk-toggleable__label {cursor: pointer;display: block;width: 100%;margin-bottom: 0;padding: 0.3em;box-sizing: border-box;text-align: center;}#sk-container-id-2 label.sk-toggleable__label-arrow:before {content: \"▸\";float: left;margin-right: 0.25em;color: #696969;}#sk-container-id-2 label.sk-toggleable__label-arrow:hover:before {color: black;}#sk-container-id-2 div.sk-estimator:hover label.sk-toggleable__label-arrow:before {color: black;}#sk-container-id-2 div.sk-toggleable__content {max-height: 0;max-width: 0;overflow: hidden;text-align: left;background-color: #f0f8ff;}#sk-container-id-2 div.sk-toggleable__content pre {margin: 0.2em;color: black;border-radius: 0.25em;background-color: #f0f8ff;}#sk-container-id-2 input.sk-toggleable__control:checked~div.sk-toggleable__content {max-height: 200px;max-width: 100%;overflow: auto;}#sk-container-id-2 input.sk-toggleable__control:checked~label.sk-toggleable__label-arrow:before {content: \"▾\";}#sk-container-id-2 div.sk-estimator input.sk-toggleable__control:checked~label.sk-toggleable__label {background-color: #d4ebff;}#sk-container-id-2 div.sk-label input.sk-toggleable__control:checked~label.sk-toggleable__label {background-color: #d4ebff;}#sk-container-id-2 input.sk-hidden--visually {border: 0;clip: rect(1px 1px 1px 1px);clip: rect(1px, 1px, 1px, 1px);height: 1px;margin: -1px;overflow: hidden;padding: 0;position: absolute;width: 1px;}#sk-container-id-2 div.sk-estimator {font-family: monospace;background-color: #f0f8ff;border: 1px dotted black;border-radius: 0.25em;box-sizing: border-box;margin-bottom: 0.5em;}#sk-container-id-2 div.sk-estimator:hover {background-color: #d4ebff;}#sk-container-id-2 div.sk-parallel-item::after {content: \"\";width: 100%;border-bottom: 1px solid gray;flex-grow: 1;}#sk-container-id-2 div.sk-label:hover label.sk-toggleable__label {background-color: #d4ebff;}#sk-container-id-2 div.sk-serial::before {content: \"\";position: absolute;border-left: 1px solid gray;box-sizing: border-box;top: 0;bottom: 0;left: 50%;z-index: 0;}#sk-container-id-2 div.sk-serial {display: flex;flex-direction: column;align-items: center;background-color: white;padding-right: 0.2em;padding-left: 0.2em;position: relative;}#sk-container-id-2 div.sk-item {position: relative;z-index: 1;}#sk-container-id-2 div.sk-parallel {display: flex;align-items: stretch;justify-content: center;background-color: white;position: relative;}#sk-container-id-2 div.sk-item::before, #sk-container-id-2 div.sk-parallel-item::before {content: \"\";position: absolute;border-left: 1px solid gray;box-sizing: border-box;top: 0;bottom: 0;left: 50%;z-index: -1;}#sk-container-id-2 div.sk-parallel-item {display: flex;flex-direction: column;z-index: 1;position: relative;background-color: white;}#sk-container-id-2 div.sk-parallel-item:first-child::after {align-self: flex-end;width: 50%;}#sk-container-id-2 div.sk-parallel-item:last-child::after {align-self: flex-start;width: 50%;}#sk-container-id-2 div.sk-parallel-item:only-child::after {width: 0;}#sk-container-id-2 div.sk-dashed-wrapped {border: 1px dashed gray;margin: 0 0.4em 0.5em 0.4em;box-sizing: border-box;padding-bottom: 0.4em;background-color: white;}#sk-container-id-2 div.sk-label label {font-family: monospace;font-weight: bold;display: inline-block;line-height: 1.2em;}#sk-container-id-2 div.sk-label-container {text-align: center;}#sk-container-id-2 div.sk-container {/* jupyter's `normalize.less` sets `[hidden] { display: none; }` but bootstrap.min.css set `[hidden] { display: none !important; }` so we also need the `!important` here to be able to override the default hidden behavior on the sphinx rendered scikit-learn.org. See: https://github.com/scikit-learn/scikit-learn/issues/21755 */display: inline-block !important;position: relative;}#sk-container-id-2 div.sk-text-repr-fallback {display: none;}</style><div id=\"sk-container-id-2\" class=\"sk-top-container\"><div class=\"sk-text-repr-fallback\"><pre>XGBClassifier(alpha=0.001498788390751351, base_score=None, booster=None,\n",
       "              callbacks=None, colsample_bylevel=None, colsample_bynode=None,\n",
       "              colsample_bytree=0.9, early_stopping_rounds=None,\n",
       "              enable_categorical=False, eval_metric=None, feature_types=None,\n",
       "              gamma=1, gpu_id=None, grow_policy=None, importance_type=None,\n",
       "              interaction_constraints=None, lambda=9.713572700385038,\n",
       "              learning_rate=None, max_bin=None, max_cat_threshold=None,\n",
       "              max_cat_to_onehot=None, max_delta_step=None, max_depth=9,\n",
       "              max_leaves=None, min_child_weight=60, missing=nan,\n",
       "              monotone_constraints=None, n_estimators=1795, n_jobs=None,\n",
       "              num_parallel_tree=None, ...)</pre><b>In a Jupyter environment, please rerun this cell to show the HTML representation or trust the notebook. <br />On GitHub, the HTML representation is unable to render, please try loading this page with nbviewer.org.</b></div><div class=\"sk-container\" hidden><div class=\"sk-item\"><div class=\"sk-estimator sk-toggleable\"><input class=\"sk-toggleable__control sk-hidden--visually\" id=\"sk-estimator-id-2\" type=\"checkbox\" checked><label for=\"sk-estimator-id-2\" class=\"sk-toggleable__label sk-toggleable__label-arrow\">XGBClassifier</label><div class=\"sk-toggleable__content\"><pre>XGBClassifier(alpha=0.001498788390751351, base_score=None, booster=None,\n",
       "              callbacks=None, colsample_bylevel=None, colsample_bynode=None,\n",
       "              colsample_bytree=0.9, early_stopping_rounds=None,\n",
       "              enable_categorical=False, eval_metric=None, feature_types=None,\n",
       "              gamma=1, gpu_id=None, grow_policy=None, importance_type=None,\n",
       "              interaction_constraints=None, lambda=9.713572700385038,\n",
       "              learning_rate=None, max_bin=None, max_cat_threshold=None,\n",
       "              max_cat_to_onehot=None, max_delta_step=None, max_depth=9,\n",
       "              max_leaves=None, min_child_weight=60, missing=nan,\n",
       "              monotone_constraints=None, n_estimators=1795, n_jobs=None,\n",
       "              num_parallel_tree=None, ...)</pre></div></div></div></div></div>"
      ],
      "text/plain": [
       "XGBClassifier(alpha=0.001498788390751351, base_score=None, booster=None,\n",
       "              callbacks=None, colsample_bylevel=None, colsample_bynode=None,\n",
       "              colsample_bytree=0.9, early_stopping_rounds=None,\n",
       "              enable_categorical=False, eval_metric=None, feature_types=None,\n",
       "              gamma=1, gpu_id=None, grow_policy=None, importance_type=None,\n",
       "              interaction_constraints=None, lambda=9.713572700385038,\n",
       "              learning_rate=None, max_bin=None, max_cat_threshold=None,\n",
       "              max_cat_to_onehot=None, max_delta_step=None, max_depth=9,\n",
       "              max_leaves=None, min_child_weight=60, missing=nan,\n",
       "              monotone_constraints=None, n_estimators=1795, n_jobs=None,\n",
       "              num_parallel_tree=None, ...)"
      ]
     },
     "execution_count": 35,
     "metadata": {},
     "output_type": "execute_result"
    }
   ],
   "source": [
    "# val 데이터까지 재학습\n",
    "model.fit(x.drop(columns='ID'), y)"
   ]
  },
  {
   "cell_type": "code",
   "execution_count": 36,
   "metadata": {},
   "outputs": [
    {
     "data": {
      "text/html": [
       "<div>\n",
       "<style scoped>\n",
       "    .dataframe tbody tr th:only-of-type {\n",
       "        vertical-align: middle;\n",
       "    }\n",
       "\n",
       "    .dataframe tbody tr th {\n",
       "        vertical-align: top;\n",
       "    }\n",
       "\n",
       "    .dataframe thead th {\n",
       "        text-align: right;\n",
       "    }\n",
       "</style>\n",
       "<table border=\"1\" class=\"dataframe\">\n",
       "  <thead>\n",
       "    <tr style=\"text-align: right;\">\n",
       "      <th></th>\n",
       "      <th>ID</th>\n",
       "      <th>danceability</th>\n",
       "      <th>energy</th>\n",
       "      <th>key</th>\n",
       "      <th>loudness</th>\n",
       "      <th>speechiness</th>\n",
       "      <th>acousticness</th>\n",
       "      <th>instrumentalness</th>\n",
       "      <th>liveness</th>\n",
       "      <th>valence</th>\n",
       "      <th>tempo</th>\n",
       "      <th>duration</th>\n",
       "    </tr>\n",
       "  </thead>\n",
       "  <tbody>\n",
       "    <tr>\n",
       "      <th>0</th>\n",
       "      <td>TEST_00000</td>\n",
       "      <td>0.8861</td>\n",
       "      <td>0.6821</td>\n",
       "      <td>2</td>\n",
       "      <td>0.7241</td>\n",
       "      <td>0.3103</td>\n",
       "      <td>0.1451</td>\n",
       "      <td>0.0000</td>\n",
       "      <td>0.5087</td>\n",
       "      <td>0.8863</td>\n",
       "      <td>0.9648</td>\n",
       "      <td>279</td>\n",
       "    </tr>\n",
       "    <tr>\n",
       "      <th>1</th>\n",
       "      <td>TEST_00001</td>\n",
       "      <td>0.8495</td>\n",
       "      <td>0.3883</td>\n",
       "      <td>1</td>\n",
       "      <td>0.4495</td>\n",
       "      <td>0.4661</td>\n",
       "      <td>0.6234</td>\n",
       "      <td>0.0004</td>\n",
       "      <td>0.1347</td>\n",
       "      <td>0.4062</td>\n",
       "      <td>0.9051</td>\n",
       "      <td>151</td>\n",
       "    </tr>\n",
       "    <tr>\n",
       "      <th>2</th>\n",
       "      <td>TEST_00002</td>\n",
       "      <td>0.2479</td>\n",
       "      <td>0.7549</td>\n",
       "      <td>3</td>\n",
       "      <td>0.7683</td>\n",
       "      <td>0.3131</td>\n",
       "      <td>0.5718</td>\n",
       "      <td>0.0000</td>\n",
       "      <td>0.1250</td>\n",
       "      <td>0.6357</td>\n",
       "      <td>0.3234</td>\n",
       "      <td>196</td>\n",
       "    </tr>\n",
       "    <tr>\n",
       "      <th>3</th>\n",
       "      <td>TEST_00003</td>\n",
       "      <td>0.6344</td>\n",
       "      <td>0.9804</td>\n",
       "      <td>1</td>\n",
       "      <td>0.6599</td>\n",
       "      <td>0.0931</td>\n",
       "      <td>0.0020</td>\n",
       "      <td>0.6016</td>\n",
       "      <td>0.8799</td>\n",
       "      <td>0.8790</td>\n",
       "      <td>0.2946</td>\n",
       "      <td>207</td>\n",
       "    </tr>\n",
       "    <tr>\n",
       "      <th>4</th>\n",
       "      <td>TEST_00004</td>\n",
       "      <td>0.6237</td>\n",
       "      <td>0.6926</td>\n",
       "      <td>6</td>\n",
       "      <td>0.6716</td>\n",
       "      <td>0.0269</td>\n",
       "      <td>0.0283</td>\n",
       "      <td>0.0001</td>\n",
       "      <td>0.1580</td>\n",
       "      <td>0.9288</td>\n",
       "      <td>0.3642</td>\n",
       "      <td>196</td>\n",
       "    </tr>\n",
       "    <tr>\n",
       "      <th>...</th>\n",
       "      <td>...</td>\n",
       "      <td>...</td>\n",
       "      <td>...</td>\n",
       "      <td>...</td>\n",
       "      <td>...</td>\n",
       "      <td>...</td>\n",
       "      <td>...</td>\n",
       "      <td>...</td>\n",
       "      <td>...</td>\n",
       "      <td>...</td>\n",
       "      <td>...</td>\n",
       "      <td>...</td>\n",
       "    </tr>\n",
       "    <tr>\n",
       "      <th>16917</th>\n",
       "      <td>TEST_16917</td>\n",
       "      <td>0.5461</td>\n",
       "      <td>0.8686</td>\n",
       "      <td>1</td>\n",
       "      <td>0.6351</td>\n",
       "      <td>0.0656</td>\n",
       "      <td>0.0010</td>\n",
       "      <td>0.8888</td>\n",
       "      <td>0.0047</td>\n",
       "      <td>0.8250</td>\n",
       "      <td>0.2672</td>\n",
       "      <td>161</td>\n",
       "    </tr>\n",
       "    <tr>\n",
       "      <th>16918</th>\n",
       "      <td>TEST_16918</td>\n",
       "      <td>0.8443</td>\n",
       "      <td>0.4194</td>\n",
       "      <td>4</td>\n",
       "      <td>0.5065</td>\n",
       "      <td>0.4315</td>\n",
       "      <td>0.1637</td>\n",
       "      <td>0.0241</td>\n",
       "      <td>0.0749</td>\n",
       "      <td>0.9482</td>\n",
       "      <td>0.9186</td>\n",
       "      <td>289</td>\n",
       "    </tr>\n",
       "    <tr>\n",
       "      <th>16919</th>\n",
       "      <td>TEST_16919</td>\n",
       "      <td>0.3373</td>\n",
       "      <td>0.9202</td>\n",
       "      <td>10</td>\n",
       "      <td>0.7272</td>\n",
       "      <td>0.4502</td>\n",
       "      <td>0.0791</td>\n",
       "      <td>0.0001</td>\n",
       "      <td>0.1881</td>\n",
       "      <td>0.0992</td>\n",
       "      <td>0.5953</td>\n",
       "      <td>212</td>\n",
       "    </tr>\n",
       "    <tr>\n",
       "      <th>16920</th>\n",
       "      <td>TEST_16920</td>\n",
       "      <td>0.4017</td>\n",
       "      <td>0.9741</td>\n",
       "      <td>9</td>\n",
       "      <td>0.6272</td>\n",
       "      <td>0.0768</td>\n",
       "      <td>0.0001</td>\n",
       "      <td>0.8718</td>\n",
       "      <td>0.6649</td>\n",
       "      <td>0.4463</td>\n",
       "      <td>0.4841</td>\n",
       "      <td>617</td>\n",
       "    </tr>\n",
       "    <tr>\n",
       "      <th>16921</th>\n",
       "      <td>TEST_16921</td>\n",
       "      <td>0.7676</td>\n",
       "      <td>0.4037</td>\n",
       "      <td>1</td>\n",
       "      <td>0.7554</td>\n",
       "      <td>0.3214</td>\n",
       "      <td>0.0838</td>\n",
       "      <td>0.0059</td>\n",
       "      <td>0.2745</td>\n",
       "      <td>0.1196</td>\n",
       "      <td>0.5966</td>\n",
       "      <td>116</td>\n",
       "    </tr>\n",
       "  </tbody>\n",
       "</table>\n",
       "<p>16922 rows × 12 columns</p>\n",
       "</div>"
      ],
      "text/plain": [
       "               ID  danceability  energy  key  loudness  speechiness  \\\n",
       "0      TEST_00000        0.8861  0.6821    2    0.7241       0.3103   \n",
       "1      TEST_00001        0.8495  0.3883    1    0.4495       0.4661   \n",
       "2      TEST_00002        0.2479  0.7549    3    0.7683       0.3131   \n",
       "3      TEST_00003        0.6344  0.9804    1    0.6599       0.0931   \n",
       "4      TEST_00004        0.6237  0.6926    6    0.6716       0.0269   \n",
       "...           ...           ...     ...  ...       ...          ...   \n",
       "16917  TEST_16917        0.5461  0.8686    1    0.6351       0.0656   \n",
       "16918  TEST_16918        0.8443  0.4194    4    0.5065       0.4315   \n",
       "16919  TEST_16919        0.3373  0.9202   10    0.7272       0.4502   \n",
       "16920  TEST_16920        0.4017  0.9741    9    0.6272       0.0768   \n",
       "16921  TEST_16921        0.7676  0.4037    1    0.7554       0.3214   \n",
       "\n",
       "       acousticness  instrumentalness  liveness  valence   tempo  duration  \n",
       "0            0.1451            0.0000    0.5087   0.8863  0.9648       279  \n",
       "1            0.6234            0.0004    0.1347   0.4062  0.9051       151  \n",
       "2            0.5718            0.0000    0.1250   0.6357  0.3234       196  \n",
       "3            0.0020            0.6016    0.8799   0.8790  0.2946       207  \n",
       "4            0.0283            0.0001    0.1580   0.9288  0.3642       196  \n",
       "...             ...               ...       ...      ...     ...       ...  \n",
       "16917        0.0010            0.8888    0.0047   0.8250  0.2672       161  \n",
       "16918        0.1637            0.0241    0.0749   0.9482  0.9186       289  \n",
       "16919        0.0791            0.0001    0.1881   0.0992  0.5953       212  \n",
       "16920        0.0001            0.8718    0.6649   0.4463  0.4841       617  \n",
       "16921        0.0838            0.0059    0.2745   0.1196  0.5966       116  \n",
       "\n",
       "[16922 rows x 12 columns]"
      ]
     },
     "execution_count": 36,
     "metadata": {},
     "output_type": "execute_result"
    }
   ],
   "source": [
    "test = pd.read_csv('test.csv')\n",
    "test"
   ]
  },
  {
   "cell_type": "code",
   "execution_count": 37,
   "metadata": {},
   "outputs": [],
   "source": [
    "x_test_id = test['ID']\n",
    "x_test = test.drop(columns='ID')"
   ]
  },
  {
   "cell_type": "code",
   "execution_count": 38,
   "metadata": {},
   "outputs": [],
   "source": [
    "# 예측\n",
    "y_test_pred = model.predict(x_test)"
   ]
  },
  {
   "cell_type": "code",
   "execution_count": 39,
   "metadata": {},
   "outputs": [
    {
     "data": {
      "text/html": [
       "<div>\n",
       "<style scoped>\n",
       "    .dataframe tbody tr th:only-of-type {\n",
       "        vertical-align: middle;\n",
       "    }\n",
       "\n",
       "    .dataframe tbody tr th {\n",
       "        vertical-align: top;\n",
       "    }\n",
       "\n",
       "    .dataframe thead th {\n",
       "        text-align: right;\n",
       "    }\n",
       "</style>\n",
       "<table border=\"1\" class=\"dataframe\">\n",
       "  <thead>\n",
       "    <tr style=\"text-align: right;\">\n",
       "      <th></th>\n",
       "      <th>genre</th>\n",
       "    </tr>\n",
       "  </thead>\n",
       "  <tbody>\n",
       "    <tr>\n",
       "      <th>0</th>\n",
       "      <td>Underground Rap</td>\n",
       "    </tr>\n",
       "    <tr>\n",
       "      <th>1</th>\n",
       "      <td>Dark Trap</td>\n",
       "    </tr>\n",
       "    <tr>\n",
       "      <th>2</th>\n",
       "      <td>Emo</td>\n",
       "    </tr>\n",
       "    <tr>\n",
       "      <th>3</th>\n",
       "      <td>techhouse</td>\n",
       "    </tr>\n",
       "    <tr>\n",
       "      <th>4</th>\n",
       "      <td>Pop</td>\n",
       "    </tr>\n",
       "    <tr>\n",
       "      <th>...</th>\n",
       "      <td>...</td>\n",
       "    </tr>\n",
       "    <tr>\n",
       "      <th>16917</th>\n",
       "      <td>techhouse</td>\n",
       "    </tr>\n",
       "    <tr>\n",
       "      <th>16918</th>\n",
       "      <td>Hiphop</td>\n",
       "    </tr>\n",
       "    <tr>\n",
       "      <th>16919</th>\n",
       "      <td>hardstyle</td>\n",
       "    </tr>\n",
       "    <tr>\n",
       "      <th>16920</th>\n",
       "      <td>psytrance</td>\n",
       "    </tr>\n",
       "    <tr>\n",
       "      <th>16921</th>\n",
       "      <td>Underground Rap</td>\n",
       "    </tr>\n",
       "  </tbody>\n",
       "</table>\n",
       "<p>16922 rows × 1 columns</p>\n",
       "</div>"
      ],
      "text/plain": [
       "                 genre\n",
       "0      Underground Rap\n",
       "1            Dark Trap\n",
       "2                  Emo\n",
       "3            techhouse\n",
       "4                  Pop\n",
       "...                ...\n",
       "16917        techhouse\n",
       "16918           Hiphop\n",
       "16919        hardstyle\n",
       "16920        psytrance\n",
       "16921  Underground Rap\n",
       "\n",
       "[16922 rows x 1 columns]"
      ]
     },
     "execution_count": 39,
     "metadata": {},
     "output_type": "execute_result"
    }
   ],
   "source": [
    "y_test_pred = encoder.inverse_transform(y_test_pred)\n",
    "y_test_pred = pd.DataFrame(y_test_pred).rename(columns = {0:'genre'})\n",
    "y_test_pred"
   ]
  },
  {
   "cell_type": "code",
   "execution_count": 40,
   "metadata": {},
   "outputs": [
    {
     "data": {
      "text/html": [
       "<div>\n",
       "<style scoped>\n",
       "    .dataframe tbody tr th:only-of-type {\n",
       "        vertical-align: middle;\n",
       "    }\n",
       "\n",
       "    .dataframe tbody tr th {\n",
       "        vertical-align: top;\n",
       "    }\n",
       "\n",
       "    .dataframe thead th {\n",
       "        text-align: right;\n",
       "    }\n",
       "</style>\n",
       "<table border=\"1\" class=\"dataframe\">\n",
       "  <thead>\n",
       "    <tr style=\"text-align: right;\">\n",
       "      <th></th>\n",
       "      <th>ID</th>\n",
       "      <th>genre</th>\n",
       "    </tr>\n",
       "  </thead>\n",
       "  <tbody>\n",
       "    <tr>\n",
       "      <th>0</th>\n",
       "      <td>TEST_00000</td>\n",
       "      <td>Underground Rap</td>\n",
       "    </tr>\n",
       "    <tr>\n",
       "      <th>1</th>\n",
       "      <td>TEST_00001</td>\n",
       "      <td>Dark Trap</td>\n",
       "    </tr>\n",
       "    <tr>\n",
       "      <th>2</th>\n",
       "      <td>TEST_00002</td>\n",
       "      <td>Emo</td>\n",
       "    </tr>\n",
       "    <tr>\n",
       "      <th>3</th>\n",
       "      <td>TEST_00003</td>\n",
       "      <td>techhouse</td>\n",
       "    </tr>\n",
       "    <tr>\n",
       "      <th>4</th>\n",
       "      <td>TEST_00004</td>\n",
       "      <td>Pop</td>\n",
       "    </tr>\n",
       "    <tr>\n",
       "      <th>...</th>\n",
       "      <td>...</td>\n",
       "      <td>...</td>\n",
       "    </tr>\n",
       "    <tr>\n",
       "      <th>16917</th>\n",
       "      <td>TEST_16917</td>\n",
       "      <td>techhouse</td>\n",
       "    </tr>\n",
       "    <tr>\n",
       "      <th>16918</th>\n",
       "      <td>TEST_16918</td>\n",
       "      <td>Hiphop</td>\n",
       "    </tr>\n",
       "    <tr>\n",
       "      <th>16919</th>\n",
       "      <td>TEST_16919</td>\n",
       "      <td>hardstyle</td>\n",
       "    </tr>\n",
       "    <tr>\n",
       "      <th>16920</th>\n",
       "      <td>TEST_16920</td>\n",
       "      <td>psytrance</td>\n",
       "    </tr>\n",
       "    <tr>\n",
       "      <th>16921</th>\n",
       "      <td>TEST_16921</td>\n",
       "      <td>Underground Rap</td>\n",
       "    </tr>\n",
       "  </tbody>\n",
       "</table>\n",
       "<p>16922 rows × 2 columns</p>\n",
       "</div>"
      ],
      "text/plain": [
       "               ID            genre\n",
       "0      TEST_00000  Underground Rap\n",
       "1      TEST_00001        Dark Trap\n",
       "2      TEST_00002              Emo\n",
       "3      TEST_00003        techhouse\n",
       "4      TEST_00004              Pop\n",
       "...           ...              ...\n",
       "16917  TEST_16917        techhouse\n",
       "16918  TEST_16918           Hiphop\n",
       "16919  TEST_16919        hardstyle\n",
       "16920  TEST_16920        psytrance\n",
       "16921  TEST_16921  Underground Rap\n",
       "\n",
       "[16922 rows x 2 columns]"
      ]
     },
     "execution_count": 40,
     "metadata": {},
     "output_type": "execute_result"
    }
   ],
   "source": [
    "final = pd.concat([x_test_id, y_test_pred],axis=1)\n",
    "final"
   ]
  },
  {
   "cell_type": "code",
   "execution_count": 41,
   "metadata": {},
   "outputs": [
    {
     "data": {
      "text/html": [
       "<div>\n",
       "<style scoped>\n",
       "    .dataframe tbody tr th:only-of-type {\n",
       "        vertical-align: middle;\n",
       "    }\n",
       "\n",
       "    .dataframe tbody tr th {\n",
       "        vertical-align: top;\n",
       "    }\n",
       "\n",
       "    .dataframe thead th {\n",
       "        text-align: right;\n",
       "    }\n",
       "</style>\n",
       "<table border=\"1\" class=\"dataframe\">\n",
       "  <thead>\n",
       "    <tr style=\"text-align: right;\">\n",
       "      <th></th>\n",
       "      <th>ID</th>\n",
       "      <th>genre</th>\n",
       "    </tr>\n",
       "  </thead>\n",
       "  <tbody>\n",
       "    <tr>\n",
       "      <th>0</th>\n",
       "      <td>TEST_00000</td>\n",
       "      <td>Underground Rap</td>\n",
       "    </tr>\n",
       "    <tr>\n",
       "      <th>1</th>\n",
       "      <td>TEST_00001</td>\n",
       "      <td>Dark Trap</td>\n",
       "    </tr>\n",
       "    <tr>\n",
       "      <th>2</th>\n",
       "      <td>TEST_00002</td>\n",
       "      <td>Emo</td>\n",
       "    </tr>\n",
       "    <tr>\n",
       "      <th>3</th>\n",
       "      <td>TEST_00003</td>\n",
       "      <td>techhouse</td>\n",
       "    </tr>\n",
       "    <tr>\n",
       "      <th>4</th>\n",
       "      <td>TEST_00004</td>\n",
       "      <td>Pop</td>\n",
       "    </tr>\n",
       "    <tr>\n",
       "      <th>...</th>\n",
       "      <td>...</td>\n",
       "      <td>...</td>\n",
       "    </tr>\n",
       "    <tr>\n",
       "      <th>16917</th>\n",
       "      <td>TEST_16917</td>\n",
       "      <td>techhouse</td>\n",
       "    </tr>\n",
       "    <tr>\n",
       "      <th>16918</th>\n",
       "      <td>TEST_16918</td>\n",
       "      <td>Hiphop</td>\n",
       "    </tr>\n",
       "    <tr>\n",
       "      <th>16919</th>\n",
       "      <td>TEST_16919</td>\n",
       "      <td>hardstyle</td>\n",
       "    </tr>\n",
       "    <tr>\n",
       "      <th>16920</th>\n",
       "      <td>TEST_16920</td>\n",
       "      <td>psytrance</td>\n",
       "    </tr>\n",
       "    <tr>\n",
       "      <th>16921</th>\n",
       "      <td>TEST_16921</td>\n",
       "      <td>Underground Rap</td>\n",
       "    </tr>\n",
       "  </tbody>\n",
       "</table>\n",
       "<p>16922 rows × 2 columns</p>\n",
       "</div>"
      ],
      "text/plain": [
       "               ID            genre\n",
       "0      TEST_00000  Underground Rap\n",
       "1      TEST_00001        Dark Trap\n",
       "2      TEST_00002              Emo\n",
       "3      TEST_00003        techhouse\n",
       "4      TEST_00004              Pop\n",
       "...           ...              ...\n",
       "16917  TEST_16917        techhouse\n",
       "16918  TEST_16918           Hiphop\n",
       "16919  TEST_16919        hardstyle\n",
       "16920  TEST_16920        psytrance\n",
       "16921  TEST_16921  Underground Rap\n",
       "\n",
       "[16922 rows x 2 columns]"
      ]
     },
     "execution_count": 41,
     "metadata": {},
     "output_type": "execute_result"
    }
   ],
   "source": [
    "final.to_csv('submission_xgb_optuna.csv',index=False)\n",
    "pd.read_csv('submission_xgb_optuna.csv')"
   ]
  },
  {
   "cell_type": "code",
   "execution_count": null,
   "metadata": {},
   "outputs": [],
   "source": []
  }
 ],
 "metadata": {
  "kernelspec": {
   "display_name": "base",
   "language": "python",
   "name": "python3"
  },
  "language_info": {
   "codemirror_mode": {
    "name": "ipython",
    "version": 3
   },
   "file_extension": ".py",
   "mimetype": "text/x-python",
   "name": "python",
   "nbconvert_exporter": "python",
   "pygments_lexer": "ipython3",
   "version": "3.9.12"
  },
  "orig_nbformat": 4,
  "vscode": {
   "interpreter": {
    "hash": "ad2bdc8ecc057115af97d19610ffacc2b4e99fae6737bb82f5d7fb13d2f2c186"
   }
  }
 },
 "nbformat": 4,
 "nbformat_minor": 2
}
